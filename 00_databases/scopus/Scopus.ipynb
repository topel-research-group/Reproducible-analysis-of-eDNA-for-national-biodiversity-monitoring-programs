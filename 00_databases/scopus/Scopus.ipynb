{
 "cells": [
  {
   "cell_type": "code",
   "execution_count": null,
   "metadata": {},
   "outputs": [],
   "source": [
    "from pybliometrics.scopus import ScopusSearch"
   ]
  },
  {
   "cell_type": "code",
   "execution_count": null,
   "metadata": {},
   "outputs": [],
   "source": [
    "# A bug seems to prevent the library to locate the API key.\n",
    "# This might help.\n",
    "! export PYB_CONFIG_FILE=~/.pybliometrics/config.ini"
   ]
  },
  {
   "cell_type": "markdown",
   "metadata": {},
   "source": [
    "# Query string"
   ]
  },
  {
   "cell_type": "code",
   "execution_count": null,
   "metadata": {},
   "outputs": [],
   "source": [
    "# Define the search string to use. Any query that works on Advanced Search\n",
    "# https://www.scopus.com/search/form.uri?display=advanced will also work here.\n",
    "query = \"reproducible AND eDNA\""
   ]
  },
  {
   "cell_type": "markdown",
   "metadata": {},
   "source": [
    "# Search Scopus"
   ]
  },
  {
   "cell_type": "code",
   "execution_count": null,
   "metadata": {},
   "outputs": [],
   "source": [
    "# ScopusSearch(query, \n",
    "#              refresh=False, \n",
    "#              view=None, \n",
    "#              verbose=False, \n",
    "#              download=True, \n",
    "#              integrity_fields=None, \n",
    "#              integrity_action='raise', \n",
    "#              subscriber=True, **kwds)\n",
    "# https://pybliometrics.readthedocs.io/en/stable/classes/ScopusSearch.html\n",
    "\n",
    "search = ScopusSearch(query, refresh=True, view=\"COMPLETE\", verbose=True)"
   ]
  },
  {
   "cell_type": "markdown",
   "metadata": {},
   "source": [
    "# Explore the result"
   ]
  },
  {
   "cell_type": "code",
   "execution_count": null,
   "metadata": {},
   "outputs": [],
   "source": [
    "# More information about the atributes of the result can be found at\n",
    "# https://dev.elsevier.com/sc_search_views.html \n",
    "# Title\n",
    "print(search.results[0].title)\n",
    "\n",
    "# Author keywords\n",
    "print(search.results[0].authkeywords)\n",
    "\n",
    "# Abstract\n",
    "print(search.results[0].description)\n",
    "\n",
    "# DOI\n",
    "print(search.results[0].doi)\n",
    "\n",
    "# eid\n",
    "print(search.results[0].eid)\n",
    "\n",
    "# pii\n",
    "print(search.results[0].pii)\n",
    "\n",
    "# Journal\n",
    "print(search.results[0].publicationName)\n",
    "\n",
    "# Date\n",
    "print(search.results[0].coverDate)\n"
   ]
  },
  {
   "cell_type": "code",
   "execution_count": null,
   "metadata": {},
   "outputs": [],
   "source": [
    "# Display the number of results found for this search string\n",
    "search.get_results_size()"
   ]
  },
  {
   "cell_type": "markdown",
   "metadata": {},
   "source": [
    "# Explore the result in Pandas"
   ]
  },
  {
   "cell_type": "code",
   "execution_count": null,
   "metadata": {},
   "outputs": [],
   "source": [
    "# Convert the search result to a Pandas dataframe \n",
    "import pandas as pd\n",
    "df = pd.DataFrame(pd.DataFrame(search.results))"
   ]
  },
  {
   "cell_type": "code",
   "execution_count": null,
   "metadata": {},
   "outputs": [],
   "source": [
    "df"
   ]
  },
  {
   "cell_type": "code",
   "execution_count": null,
   "metadata": {},
   "outputs": [],
   "source": [
    "# Find papers with specific keywords\n",
    "import numpy as np\n",
    "\n",
    "keyword = \"zeta diversity\"\n",
    "df[df.authkeywords.str.contains(keyword).replace(np.nan, False)]"
   ]
  },
  {
   "cell_type": "markdown",
   "metadata": {},
   "source": [
    "# Explore keywords"
   ]
  },
  {
   "cell_type": "code",
   "execution_count": null,
   "metadata": {},
   "outputs": [],
   "source": [
    "# Recursive flattening of \"list of lists\"\n",
    "# https://stackabuse.com/python-how-to-flatten-list-of-lists/\n",
    "def flatten_list(list_of_lists):\n",
    "    if len(list_of_lists) == 0:\n",
    "        return list_of_lists\n",
    "    if isinstance(list_of_lists[0], list):\n",
    "        return flatten_list(list_of_lists[0]) + flatten_list(list_of_lists[1:])\n",
    "    return list_of_lists[:1] + flatten_list(list_of_lists[1:])\n",
    "\n",
    "# Combine all keywords in a list of lists\n",
    "regular_list = df.authkeywords.str.split(\"|\").to_list()\n",
    "# Flatten the list of lists\n",
    "fl = flatten_list(regular_list)\n",
    "# Remove leading and trailing white space from keywords\n",
    "fl = [str(i).strip() for i in fl]\n",
    "\n",
    "# Count the keywords\n",
    "count = {}\n",
    "for i in fl:\n",
    "    i = str(i)\n",
    "    try:\n",
    "        count[i] += 1\n",
    "    except:\n",
    "        count[i] = 1\n",
    "\n",
    "# Turn the dictionary of keywords into a Pandas dataframe\n",
    "kw = pd.DataFrame.from_dict(count, orient='index')\n",
    "\n",
    "# Display the result\n",
    "kw.sort_values(0, ascending=False).head(20)"
   ]
  },
  {
   "cell_type": "markdown",
   "metadata": {},
   "source": [
    "# Explore abstracts in html format"
   ]
  },
  {
   "cell_type": "code",
   "execution_count": null,
   "metadata": {},
   "outputs": [],
   "source": [
    "# Write title, Elsevier ID, keywords and Abstract to an html file\n",
    "original_abstracts = open(\"original_abstracts.html\", \"w\")\n",
    "\n",
    "with open(\"original_abstracts.html\", \"w\") as file:\n",
    "    for paper in search.results:\n",
    "        title = \"<h1>\" + paper.title + \"</h1>\" + \"\\n\"\n",
    "        eid = \"<p>\" + paper.eid + \"</p>\" + \"\\n\"\n",
    "        try:\n",
    "            doi = \"<p><a href=\\\"https://doi.org/\" + paper.doi + \"\\\">\" + \"doi:\" + paper.doi + \"</a></p>\" + \"\\n\"\n",
    "        except TypeError:\n",
    "            doi = \"<p>No DOI</p>\"\n",
    "        if paper.authkeywords is None:\n",
    "            keywords = \"<p>No keywords</p>\"\n",
    "        else:\n",
    "            keywords = paper.authkeywords\n",
    "        abstract = \"<p>\" + str(paper.description) + \"</p>\" + \"\\n\"\n",
    "        string = title + eid + doi + keywords + abstract\n",
    "        \n",
    "        file.write(string)"
   ]
  },
  {
   "cell_type": "markdown",
   "metadata": {},
   "source": [
    "# Download fulltext results in XML format"
   ]
  },
  {
   "cell_type": "code",
   "execution_count": null,
   "metadata": {},
   "outputs": [],
   "source": [
    "import pybliometrics.scopus\n",
    "import requests\n",
    "\n",
    "# Option 1.\n",
    "\n",
    "for paper in search.results:\n",
    "    doi = paper.doi\n",
    "    r = requests.get(f\"https://api.elsevier.com/content/article/doi/{doi}?apiKey={pybliometrics.scopus.KEYS[0]}\")\n",
    "    print(str(r.content))"
   ]
  }
 ],
 "metadata": {
  "kernelspec": {
   "display_name": "Python 3",
   "language": "python",
   "name": "python3"
  },
  "language_info": {
   "codemirror_mode": {
    "name": "ipython",
    "version": 3
   },
   "file_extension": ".py",
   "mimetype": "text/x-python",
   "name": "python",
   "nbconvert_exporter": "python",
   "pygments_lexer": "ipython3",
   "version": "3.8.3"
  }
 },
 "nbformat": 4,
 "nbformat_minor": 4
}
