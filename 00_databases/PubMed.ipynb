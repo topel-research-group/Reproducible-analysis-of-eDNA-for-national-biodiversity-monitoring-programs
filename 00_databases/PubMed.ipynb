{
 "cells": [
  {
   "cell_type": "code",
   "execution_count": 1,
   "metadata": {},
   "outputs": [
    {
     "name": "stdin",
     "output_type": "stream",
     "text": [
      "Email:  mats.topel@marine.gu.se\n"
     ]
    }
   ],
   "source": [
    "from Bio import Entrez\n",
    "import pickle\n",
    "from lib.Publications import Publication\n",
    "\n",
    "# Always tell NCBI who you are\n",
    "Entrez.email = input(\"Email: \")"
   ]
  },
  {
   "cell_type": "markdown",
   "metadata": {},
   "source": [
    "# Custom functions"
   ]
  },
  {
   "cell_type": "code",
   "execution_count": 2,
   "metadata": {},
   "outputs": [],
   "source": [
    "# Store the search results locally\n",
    "record_cash = {}\n",
    "\n",
    "# Download individual records\n",
    "def get_record(pubmedID):\n",
    "    # Check if the publication has already been downloaded\n",
    "    try:\n",
    "        return record_cash[pubmedID]\n",
    "    except KeyError:\n",
    "        handle = Entrez.efetch(db=\"pubmed\", \\\n",
    "                               rettype=\"text\", \\\n",
    "                               id=pubmedID)\n",
    "        result = Entrez.read(handle)\n",
    "        \n",
    "        # Update the cashed results\n",
    "        record_cash[pubmedID] = result\n",
    "        return result\n",
    "\n",
    "# Print progress\n",
    "def progress(x = None, y = None):\n",
    "    # Print progress\n",
    "    prog = str(x) + \"/\" + str(y)\n",
    "    print(prog, end=\"\\r\")"
   ]
  },
  {
   "cell_type": "markdown",
   "metadata": {},
   "source": [
    "# Query string"
   ]
  },
  {
   "cell_type": "code",
   "execution_count": 3,
   "metadata": {},
   "outputs": [],
   "source": [
    "# Some usefull search tags to use:\n",
    "# https://pubmed.ncbi.nlm.nih.gov/help/#search-tags\n",
    "#\n",
    "# All Fields [all]\n",
    "# Author [au]\n",
    "# Journal [ta]\n",
    "# PMID [pmid]\n",
    "# Publication Type [pt]\n",
    "# Text Words [tw]\n",
    "# Title [ti]\n",
    "# Title/Abstract [tiab]\n",
    "\n",
    "\n",
    "# [Author]\n",
    "# [Journal]\n",
    "# [Keyword]\n",
    "# [Title]\n",
    "# [pt] (Pulication type)\n",
    "# Publication types: https://pubmed.ncbi.nlm.nih.gov/help/#publication-types\n",
    "#query = \"reproducible AND eDNA\"\n",
    "#query = \"eDNA AND metabarcoding\"\n",
    "query = '(\"eDNA\" OR \"environmental DNA\" OR \"metabarcoding\" OR \"eRNA\" OR \"environmental RNA\") AND (\"biodiversity\" OR \"species richness\" OR \"monitoring\" OR \"biomonitoring\") AND (\"high throughput sequencing\" OR \"HTS\" OR \"throughput\")'"
   ]
  },
  {
   "cell_type": "markdown",
   "metadata": {},
   "source": [
    "# Search PubMed"
   ]
  },
  {
   "cell_type": "code",
   "execution_count": 4,
   "metadata": {},
   "outputs": [],
   "source": [
    "# DevNote: Check the default retmax value\n",
    "handle = Entrez.esearch(db=\"pubmed\", \\\n",
    "                        term=query, \\\n",
    "                        retmax=100000)\n",
    "\n",
    "record = Entrez.read(handle)"
   ]
  },
  {
   "cell_type": "markdown",
   "metadata": {},
   "source": [
    "# Explore the result"
   ]
  },
  {
   "cell_type": "code",
   "execution_count": 5,
   "metadata": {},
   "outputs": [
    {
     "data": {
      "text/plain": [
       "'\\nfor pubmedID in record[\"IdList\"]:\\n    x = get_record(pubmedID)\\n    break\\n    \\n    \\n# Title\\nprint(x[\"PubmedArticle\"][0][\"MedlineCitation\"][\"Article\"][\"ArticleTitle\"])\\n\\n# Keywords\\nkeywords = []\\nfor i in x[\"PubmedArticle\"][0][\"MedlineCitation\"][\"KeywordList\"][0]:\\n    keywords.append(str(i))\\nprint(keywords)\\n\\n# Abstract\\nx[\"PubmedArticle\"][0][\"MedlineCitation\"][\"Article\"][\"Abstract\"][\"AbstractText\"][0]\\n\\n# DOI\\nx[\"PubmedArticle\"][0][\"MedlineCitation\"][\"Article\"][\"ELocationID\"][0].title()\\n\\n# eid\\n\\n# pii\\n\\n# Journal\\nprint(x[\"PubmedArticle\"][0][\"MedlineCitation\"][\"Article\"][\"Journal\"][\"Title\"])\\n\\n# Date\\ny = x[\"PubmedArticle\"][0][\"MedlineCitation\"][\"Article\"][\"ArticleDate\"][0]\\nprint(y[\"Year\"] + \"-\" + y[\"Month\"] + \"-\" + y[\"Day\"])\\n'"
      ]
     },
     "execution_count": 5,
     "metadata": {},
     "output_type": "execute_result"
    }
   ],
   "source": [
    "'''\n",
    "for pubmedID in record[\"IdList\"]:\n",
    "    x = get_record(pubmedID)\n",
    "    break\n",
    "    \n",
    "    \n",
    "# Title\n",
    "print(x[\"PubmedArticle\"][0][\"MedlineCitation\"][\"Article\"][\"ArticleTitle\"])\n",
    "\n",
    "# Keywords\n",
    "keywords = []\n",
    "for i in x[\"PubmedArticle\"][0][\"MedlineCitation\"][\"KeywordList\"][0]:\n",
    "    keywords.append(str(i))\n",
    "print(keywords)\n",
    "\n",
    "# Abstract\n",
    "x[\"PubmedArticle\"][0][\"MedlineCitation\"][\"Article\"][\"Abstract\"][\"AbstractText\"][0]\n",
    "\n",
    "# DOI\n",
    "x[\"PubmedArticle\"][0][\"MedlineCitation\"][\"Article\"][\"ELocationID\"][0].title()\n",
    "\n",
    "# eid\n",
    "\n",
    "# pii\n",
    "\n",
    "# Journal\n",
    "print(x[\"PubmedArticle\"][0][\"MedlineCitation\"][\"Article\"][\"Journal\"][\"Title\"])\n",
    "\n",
    "# Date\n",
    "y = x[\"PubmedArticle\"][0][\"MedlineCitation\"][\"Article\"][\"ArticleDate\"][0]\n",
    "print(y[\"Year\"] + \"-\" + y[\"Month\"] + \"-\" + y[\"Day\"])\n",
    "'''"
   ]
  },
  {
   "cell_type": "code",
   "execution_count": 6,
   "metadata": {},
   "outputs": [
    {
     "name": "stdout",
     "output_type": "stream",
     "text": [
      "Number of records: 417\n"
     ]
    }
   ],
   "source": [
    "# Display the number of results found for this search string\n",
    "print(f\"Number of records: {len(record['IdList'])}\")"
   ]
  },
  {
   "cell_type": "markdown",
   "metadata": {},
   "source": [
    "# Explore the result in Pandas"
   ]
  },
  {
   "cell_type": "code",
   "execution_count": 7,
   "metadata": {},
   "outputs": [],
   "source": [
    "# import pandas as pd"
   ]
  },
  {
   "cell_type": "markdown",
   "metadata": {},
   "source": [
    "# Explore keywords"
   ]
  },
  {
   "cell_type": "code",
   "execution_count": 8,
   "metadata": {},
   "outputs": [
    {
     "data": {
      "text/plain": [
       "'\\nkeywords = []\\nprog = 1\\n\\nfor pubmedID in record[\"IdList\"]:\\n    x = get_record(pubmedID)\\n    try:\\n        for i in x[\"PubmedArticle\"][0][\"MedlineCitation\"][\"KeywordList\"][0]:\\n            keywords.append(str(i))\\n    except IndexError:\\n        pass\\n    # Print progress\\n    progress(prog, len(record[\"IdList\"]))\\n    prog += 1\\n    \\n# Count the keywords\\ncount = {}\\nfor i in keywords:\\n    i = str(i)\\n    try:\\n        count[i] += 1\\n    except:\\n        count[i] = 1\\n\\n# Turn the dictionary of keywords into a Pandas dataframe\\nkw = pd.DataFrame.from_dict(count, orient=\\'index\\')\\n\\n# Display the 20 top keywords\\nkw.sort_values(0, ascending=False).head(20)\\n'"
      ]
     },
     "execution_count": 8,
     "metadata": {},
     "output_type": "execute_result"
    }
   ],
   "source": [
    "'''\n",
    "keywords = []\n",
    "prog = 1\n",
    "\n",
    "for pubmedID in record[\"IdList\"]:\n",
    "    x = get_record(pubmedID)\n",
    "    try:\n",
    "        for i in x[\"PubmedArticle\"][0][\"MedlineCitation\"][\"KeywordList\"][0]:\n",
    "            keywords.append(str(i))\n",
    "    except IndexError:\n",
    "        pass\n",
    "    # Print progress\n",
    "    progress(prog, len(record[\"IdList\"]))\n",
    "    prog += 1\n",
    "    \n",
    "# Count the keywords\n",
    "count = {}\n",
    "for i in keywords:\n",
    "    i = str(i)\n",
    "    try:\n",
    "        count[i] += 1\n",
    "    except:\n",
    "        count[i] = 1\n",
    "\n",
    "# Turn the dictionary of keywords into a Pandas dataframe\n",
    "kw = pd.DataFrame.from_dict(count, orient='index')\n",
    "\n",
    "# Display the 20 top keywords\n",
    "kw.sort_values(0, ascending=False).head(20)\n",
    "'''"
   ]
  },
  {
   "cell_type": "markdown",
   "metadata": {},
   "source": [
    "# Explore abstracts in html format"
   ]
  },
  {
   "cell_type": "code",
   "execution_count": 9,
   "metadata": {},
   "outputs": [
    {
     "name": "stdout",
     "output_type": "stream",
     "text": [
      "417/417\r"
     ]
    }
   ],
   "source": [
    "publications = []\n",
    "\n",
    "prog = 1\n",
    "with open(\"original_abstracts_PubMed.html\", \"w\") as file:\n",
    "    for pubmedID in record[\"IdList\"]:\n",
    "        \n",
    "        progress(prog, len(record[\"IdList\"]))\n",
    "        \n",
    "        paper = get_record(pubmedID)\n",
    "        \n",
    "        # Title\n",
    "        title = \"<h1>\" + paper[\"PubmedArticle\"][0][\"MedlineCitation\"][\"Article\"][\"ArticleTitle\"] + \"</h1>\" + \"\\n\"\n",
    "        title_obj= paper[\"PubmedArticle\"][0][\"MedlineCitation\"][\"Article\"][\"ArticleTitle\"]\n",
    "        \n",
    "        # DOI\n",
    "        try:  \n",
    "            doi = \"<p><a href=\\\"https://doi.org/\" + \\\n",
    "                  paper[\"PubmedArticle\"][0][\"MedlineCitation\"][\"Article\"][\"ELocationID\"][0].title() + \\\n",
    "                  \"\\\">\" + \\\n",
    "                  \"doi:\" + \\\n",
    "                  paper[\"PubmedArticle\"][0][\"MedlineCitation\"][\"Article\"][\"ELocationID\"][0].title() + \\\n",
    "                  \"</a></p>\" + \\\n",
    "                  \"\\n\"\n",
    "            doi_obj = paper[\"PubmedArticle\"][0][\"MedlineCitation\"][\"Article\"][\"ELocationID\"][0].title()\n",
    "        except:\n",
    "            doi = \"<p>No DOI</p>\"\n",
    "            doi_obj = None\n",
    "        \n",
    "        # Keywords\n",
    "        try:\n",
    "            keywords = []\n",
    "            for i in paper[\"PubmedArticle\"][0][\"MedlineCitation\"][\"KeywordList\"][0]:\n",
    "                keywords.append(str(i))\n",
    "            #keywords = paper[\"PubmedArticle\"][0][\"MedlineCitation\"][\"KeywordList\"][0]\n",
    "        except:\n",
    "            keywords = \"<p>No keywords</p>\"\n",
    "        \n",
    "        # Abstract\n",
    "        try:\n",
    "            abstract = \"<p>\" + \\\n",
    "                       paper[\"PubmedArticle\"][0][\"MedlineCitation\"][\"Article\"][\"Abstract\"][\"AbstractText\"][0] + \\\n",
    "                       \"</p>\" + \\\n",
    "                       \"\\n\"\n",
    "            abstract_obj = paper[\"PubmedArticle\"][0][\"MedlineCitation\"][\"Article\"][\"Abstract\"][\"AbstractText\"][0]\n",
    "        except KeyError:\n",
    "            abstract = \"<p>No Abstract</p>\"\n",
    "            abstract_obj = None\n",
    "            \n",
    "        string = title + doi + str(keywords) + abstract\n",
    "\n",
    "        publications.append(Publication(title = str(title_obj), doi = str(doi_obj), abstract = str(abstract_obj)))\n",
    "\n",
    "        prog += 1\n",
    "        file.write(string)"
   ]
  },
  {
   "cell_type": "markdown",
   "metadata": {},
   "source": [
    "# Save result to binary file"
   ]
  },
  {
   "cell_type": "code",
   "execution_count": 10,
   "metadata": {},
   "outputs": [],
   "source": [
    "# Save the result to a binary file, and analyse it together with data from other searches.\n",
    "pickle.dump(publications, open(\"pubmed.p\" ,\"wb\"))"
   ]
  },
  {
   "cell_type": "code",
   "execution_count": null,
   "metadata": {},
   "outputs": [],
   "source": []
  }
 ],
 "metadata": {
  "kernelspec": {
   "display_name": "Python 3",
   "language": "python",
   "name": "python3"
  },
  "language_info": {
   "codemirror_mode": {
    "name": "ipython",
    "version": 3
   },
   "file_extension": ".py",
   "mimetype": "text/x-python",
   "name": "python",
   "nbconvert_exporter": "python",
   "pygments_lexer": "ipython3",
   "version": "3.8.3"
  }
 },
 "nbformat": 4,
 "nbformat_minor": 4
}
