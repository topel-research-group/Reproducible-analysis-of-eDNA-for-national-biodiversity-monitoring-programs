{
 "cells": [
  {
   "cell_type": "code",
   "execution_count": 13,
   "metadata": {},
   "outputs": [
    {
     "name": "stdin",
     "output_type": "stream",
     "text": [
      "Email:  mats.topel@marine.gu.se\n"
     ]
    }
   ],
   "source": [
    "from Bio import Entrez\n",
    "import pickle\n",
    "from lib.Publications import Publication\n",
    "\n",
    "# Always tell NCBI who you are\n",
    "Entrez.email = input(\"Email: \")"
   ]
  },
  {
   "cell_type": "markdown",
   "metadata": {},
   "source": [
    "# Custom functions"
   ]
  },
  {
   "cell_type": "code",
   "execution_count": 2,
   "metadata": {},
   "outputs": [],
   "source": [
    "# Store the search results locally\n",
    "record_cash = {}\n",
    "\n",
    "# Download individual records\n",
    "def get_record(pubmedID):\n",
    "    # Check if the publication has already been downloaded\n",
    "    try:\n",
    "        return record_cash[pubmedID]\n",
    "    except KeyError:\n",
    "        handle = Entrez.efetch(db=\"pubmed\", \\\n",
    "                               rettype=\"text\", \\\n",
    "                               id=pubmedID)\n",
    "        result = Entrez.read(handle)\n",
    "        \n",
    "        # Update the cashed results\n",
    "        record_cash[pubmedID] = result\n",
    "        return result\n",
    "\n",
    "# Print progress\n",
    "def progress(x = None, y = None):\n",
    "    # Print progress\n",
    "    prog = str(x) + \"/\" + str(y)\n",
    "    print(prog, end=\"\\r\")"
   ]
  },
  {
   "cell_type": "markdown",
   "metadata": {},
   "source": [
    "# Query string"
   ]
  },
  {
   "cell_type": "code",
   "execution_count": 3,
   "metadata": {},
   "outputs": [],
   "source": [
    "# Some usefull search tags to use:\n",
    "# https://pubmed.ncbi.nlm.nih.gov/help/#search-tags\n",
    "#\n",
    "# All Fields [all]\n",
    "# Author [au]\n",
    "# Journal [ta]\n",
    "# PMID [pmid]\n",
    "# Publication Type [pt]\n",
    "# Text Words [tw]\n",
    "# Title [ti]\n",
    "# Title/Abstract [tiab]\n",
    "\n",
    "\n",
    "# [Author]\n",
    "# [Journal]\n",
    "# [Keyword]\n",
    "# [Title]\n",
    "# [pt] (Pulication type)\n",
    "# Publication types: https://pubmed.ncbi.nlm.nih.gov/help/#publication-types\n",
    "#query = \"reproducible AND eDNA\"\n",
    "#query = \"eDNA AND metabarcoding\"\n",
    "query = \"eDNA[tiab] AND metagenomics\""
   ]
  },
  {
   "cell_type": "markdown",
   "metadata": {},
   "source": [
    "# Search PubMed"
   ]
  },
  {
   "cell_type": "code",
   "execution_count": 4,
   "metadata": {},
   "outputs": [],
   "source": [
    "# DevNote: Check the default retmax value\n",
    "handle = Entrez.esearch(db=\"pubmed\", \\\n",
    "                        term=query, \\\n",
    "                        retmax=100000)\n",
    "\n",
    "record = Entrez.read(handle)"
   ]
  },
  {
   "cell_type": "markdown",
   "metadata": {},
   "source": [
    "# Explore the result"
   ]
  },
  {
   "cell_type": "code",
   "execution_count": 5,
   "metadata": {},
   "outputs": [
    {
     "name": "stdout",
     "output_type": "stream",
     "text": [
      "Pleistocene mitogenomes reconstructed from the environmental DNA of permafrost sediments.\n",
      "['Late Quaternary extinctions', 'Yukon horse', 'ancient environmental DNA', 'ancient mitochondrial genomes', 'metagenomics', 'permafrost', 'phylogenetics', 'steppe bison', 'willow ptarmigan', 'woolly mammoth']\n",
      "Current biology : CB\n",
      "2022-01-05\n"
     ]
    }
   ],
   "source": [
    "for pubmedID in record[\"IdList\"]:\n",
    "    x = get_record(pubmedID)\n",
    "    break\n",
    "    \n",
    "    \n",
    "# Title\n",
    "print(x[\"PubmedArticle\"][0][\"MedlineCitation\"][\"Article\"][\"ArticleTitle\"])\n",
    "\n",
    "# Keywords\n",
    "keywords = []\n",
    "for i in x[\"PubmedArticle\"][0][\"MedlineCitation\"][\"KeywordList\"][0]:\n",
    "    keywords.append(str(i))\n",
    "print(keywords)\n",
    "\n",
    "# Abstract\n",
    "x[\"PubmedArticle\"][0][\"MedlineCitation\"][\"Article\"][\"Abstract\"][\"AbstractText\"][0]\n",
    "\n",
    "# DOI\n",
    "x[\"PubmedArticle\"][0][\"MedlineCitation\"][\"Article\"][\"ELocationID\"][0].title()\n",
    "\n",
    "# eid\n",
    "\n",
    "# pii\n",
    "\n",
    "# Journal\n",
    "print(x[\"PubmedArticle\"][0][\"MedlineCitation\"][\"Article\"][\"Journal\"][\"Title\"])\n",
    "\n",
    "# Date\n",
    "y = x[\"PubmedArticle\"][0][\"MedlineCitation\"][\"Article\"][\"ArticleDate\"][0]\n",
    "print(y[\"Year\"] + \"-\" + y[\"Month\"] + \"-\" + y[\"Day\"])"
   ]
  },
  {
   "cell_type": "code",
   "execution_count": 6,
   "metadata": {},
   "outputs": [
    {
     "name": "stdout",
     "output_type": "stream",
     "text": [
      "Number of records: 95\n"
     ]
    }
   ],
   "source": [
    "# Display the number of results found for this search string\n",
    "print(f\"Number of records: {len(record['IdList'])}\")"
   ]
  },
  {
   "cell_type": "markdown",
   "metadata": {},
   "source": [
    "# Explore the result in Pandas"
   ]
  },
  {
   "cell_type": "code",
   "execution_count": 7,
   "metadata": {},
   "outputs": [],
   "source": [
    "import pandas as pd"
   ]
  },
  {
   "cell_type": "markdown",
   "metadata": {},
   "source": [
    "# Explore keywords"
   ]
  },
  {
   "cell_type": "code",
   "execution_count": 8,
   "metadata": {},
   "outputs": [
    {
     "name": "stdout",
     "output_type": "stream",
     "text": [
      "95/95\r"
     ]
    },
    {
     "data": {
      "text/html": [
       "<div>\n",
       "<style scoped>\n",
       "    .dataframe tbody tr th:only-of-type {\n",
       "        vertical-align: middle;\n",
       "    }\n",
       "\n",
       "    .dataframe tbody tr th {\n",
       "        vertical-align: top;\n",
       "    }\n",
       "\n",
       "    .dataframe thead th {\n",
       "        text-align: right;\n",
       "    }\n",
       "</style>\n",
       "<table border=\"1\" class=\"dataframe\">\n",
       "  <thead>\n",
       "    <tr style=\"text-align: right;\">\n",
       "      <th></th>\n",
       "      <th>0</th>\n",
       "    </tr>\n",
       "  </thead>\n",
       "  <tbody>\n",
       "    <tr>\n",
       "      <th>eDNA</th>\n",
       "      <td>16</td>\n",
       "    </tr>\n",
       "    <tr>\n",
       "      <th>environmental DNA</th>\n",
       "      <td>16</td>\n",
       "    </tr>\n",
       "    <tr>\n",
       "      <th>Metagenomics</th>\n",
       "      <td>12</td>\n",
       "    </tr>\n",
       "    <tr>\n",
       "      <th>metagenomics</th>\n",
       "      <td>11</td>\n",
       "    </tr>\n",
       "    <tr>\n",
       "      <th>metabarcoding</th>\n",
       "      <td>9</td>\n",
       "    </tr>\n",
       "    <tr>\n",
       "      <th>biodiversity</th>\n",
       "      <td>5</td>\n",
       "    </tr>\n",
       "    <tr>\n",
       "      <th>Metabarcoding</th>\n",
       "      <td>4</td>\n",
       "    </tr>\n",
       "    <tr>\n",
       "      <th>biomonitoring</th>\n",
       "      <td>3</td>\n",
       "    </tr>\n",
       "    <tr>\n",
       "      <th>environmental DNA (eDNA)</th>\n",
       "      <td>3</td>\n",
       "    </tr>\n",
       "    <tr>\n",
       "      <th>Biodiversity</th>\n",
       "      <td>2</td>\n",
       "    </tr>\n",
       "    <tr>\n",
       "      <th>Environmental DNA (eDNA)</th>\n",
       "      <td>2</td>\n",
       "    </tr>\n",
       "    <tr>\n",
       "      <th>Illumina</th>\n",
       "      <td>2</td>\n",
       "    </tr>\n",
       "    <tr>\n",
       "      <th>community ecology</th>\n",
       "      <td>2</td>\n",
       "    </tr>\n",
       "    <tr>\n",
       "      <th>high-throughput sequencing</th>\n",
       "      <td>2</td>\n",
       "    </tr>\n",
       "    <tr>\n",
       "      <th>Estuarine</th>\n",
       "      <td>2</td>\n",
       "    </tr>\n",
       "    <tr>\n",
       "      <th>Marine</th>\n",
       "      <td>2</td>\n",
       "    </tr>\n",
       "    <tr>\n",
       "      <th>Molecular ecology</th>\n",
       "      <td>2</td>\n",
       "    </tr>\n",
       "    <tr>\n",
       "      <th>natural products</th>\n",
       "      <td>2</td>\n",
       "    </tr>\n",
       "    <tr>\n",
       "      <th>detectability</th>\n",
       "      <td>2</td>\n",
       "    </tr>\n",
       "    <tr>\n",
       "      <th>false negatives</th>\n",
       "      <td>2</td>\n",
       "    </tr>\n",
       "  </tbody>\n",
       "</table>\n",
       "</div>"
      ],
      "text/plain": [
       "                             0\n",
       "eDNA                        16\n",
       "environmental DNA           16\n",
       "Metagenomics                12\n",
       "metagenomics                11\n",
       "metabarcoding                9\n",
       "biodiversity                 5\n",
       "Metabarcoding                4\n",
       "biomonitoring                3\n",
       "environmental DNA (eDNA)     3\n",
       "Biodiversity                 2\n",
       "Environmental DNA (eDNA)     2\n",
       "Illumina                     2\n",
       "community ecology            2\n",
       "high-throughput sequencing   2\n",
       "Estuarine                    2\n",
       "Marine                       2\n",
       "Molecular ecology            2\n",
       "natural products             2\n",
       "detectability                2\n",
       "false negatives              2"
      ]
     },
     "execution_count": 8,
     "metadata": {},
     "output_type": "execute_result"
    }
   ],
   "source": [
    "keywords = []\n",
    "prog = 1\n",
    "\n",
    "for pubmedID in record[\"IdList\"]:\n",
    "    x = get_record(pubmedID)\n",
    "    try:\n",
    "        for i in x[\"PubmedArticle\"][0][\"MedlineCitation\"][\"KeywordList\"][0]:\n",
    "            keywords.append(str(i))\n",
    "    except IndexError:\n",
    "        pass\n",
    "    # Print progress\n",
    "    progress(prog, len(record[\"IdList\"]))\n",
    "    prog += 1\n",
    "    \n",
    "# Count the keywords\n",
    "count = {}\n",
    "for i in keywords:\n",
    "    i = str(i)\n",
    "    try:\n",
    "        count[i] += 1\n",
    "    except:\n",
    "        count[i] = 1\n",
    "\n",
    "# Turn the dictionary of keywords into a Pandas dataframe\n",
    "kw = pd.DataFrame.from_dict(count, orient='index')\n",
    "\n",
    "# Display the 20 top keywords\n",
    "kw.sort_values(0, ascending=False).head(20)"
   ]
  },
  {
   "cell_type": "markdown",
   "metadata": {},
   "source": [
    "# Explore abstracts in html format"
   ]
  },
  {
   "cell_type": "code",
   "execution_count": 10,
   "metadata": {},
   "outputs": [
    {
     "name": "stdout",
     "output_type": "stream",
     "text": [
      "95/95\r"
     ]
    }
   ],
   "source": [
    "publications = []\n",
    "\n",
    "prog = 1\n",
    "with open(\"original_abstracts_PubMed.html\", \"w\") as file:\n",
    "    for pubmedID in record[\"IdList\"]:\n",
    "        \n",
    "        progress(prog, len(record[\"IdList\"]))\n",
    "        \n",
    "        paper = get_record(pubmedID)\n",
    "        \n",
    "        # Title\n",
    "        title = \"<h1>\" + paper[\"PubmedArticle\"][0][\"MedlineCitation\"][\"Article\"][\"ArticleTitle\"] + \"</h1>\" + \"\\n\"\n",
    "        title_obj= paper[\"PubmedArticle\"][0][\"MedlineCitation\"][\"Article\"][\"ArticleTitle\"]\n",
    "        \n",
    "        # DOI\n",
    "        try:  \n",
    "            doi = \"<p><a href=\\\"https://doi.org/\" + \\\n",
    "                  paper[\"PubmedArticle\"][0][\"MedlineCitation\"][\"Article\"][\"ELocationID\"][0].title() + \\\n",
    "                  \"\\\">\" + \\\n",
    "                  \"doi:\" + \\\n",
    "                  paper[\"PubmedArticle\"][0][\"MedlineCitation\"][\"Article\"][\"ELocationID\"][0].title() + \\\n",
    "                  \"</a></p>\" + \\\n",
    "                  \"\\n\"\n",
    "            doi_obj = paper[\"PubmedArticle\"][0][\"MedlineCitation\"][\"Article\"][\"ELocationID\"][0].title()\n",
    "        except:\n",
    "            doi = \"<p>No DOI</p>\"\n",
    "            doi_obj = None\n",
    "        \n",
    "        # Keywords\n",
    "        try:\n",
    "            keywords = []\n",
    "            for i in paper[\"PubmedArticle\"][0][\"MedlineCitation\"][\"KeywordList\"][0]:\n",
    "                keywords.append(str(i))\n",
    "            #keywords = paper[\"PubmedArticle\"][0][\"MedlineCitation\"][\"KeywordList\"][0]\n",
    "        except:\n",
    "            keywords = \"<p>No keywords</p>\"\n",
    "        \n",
    "        # Abstract\n",
    "        try:\n",
    "            abstract = \"<p>\" + \\\n",
    "                       paper[\"PubmedArticle\"][0][\"MedlineCitation\"][\"Article\"][\"Abstract\"][\"AbstractText\"][0] + \\\n",
    "                       \"</p>\" + \\\n",
    "                       \"\\n\"\n",
    "            abstract_obj = paper[\"PubmedArticle\"][0][\"MedlineCitation\"][\"Article\"][\"Abstract\"][\"AbstractText\"][0]\n",
    "        except KeyError:\n",
    "            abstract = \"<p>No Abstract</p>\"\n",
    "            abstract_obj = None\n",
    "            \n",
    "        string = title + doi + str(keywords) + abstract\n",
    "\n",
    "        publications.append(Publication(title = title_obj, doi = doi_obj, abstract = abstract_obj))\n",
    "\n",
    "        prog += 1\n",
    "        file.write(string)"
   ]
  },
  {
   "cell_type": "markdown",
   "metadata": {},
   "source": [
    "# Save result to binary file"
   ]
  },
  {
   "cell_type": "code",
   "execution_count": 14,
   "metadata": {},
   "outputs": [],
   "source": [
    "# Save the result to a binary file, and analyse it together with data from other searches.\n",
    "pickle.dump(publications, open(\"pubmed_eDNA_metagenomics.p\" ,\"wb\"))"
   ]
  },
  {
   "cell_type": "code",
   "execution_count": null,
   "metadata": {},
   "outputs": [],
   "source": []
  }
 ],
 "metadata": {
  "kernelspec": {
   "display_name": "Python 3",
   "language": "python",
   "name": "python3"
  },
  "language_info": {
   "codemirror_mode": {
    "name": "ipython",
    "version": 3
   },
   "file_extension": ".py",
   "mimetype": "text/x-python",
   "name": "python",
   "nbconvert_exporter": "python",
   "pygments_lexer": "ipython3",
   "version": "3.8.3"
  }
 },
 "nbformat": 4,
 "nbformat_minor": 4
}
