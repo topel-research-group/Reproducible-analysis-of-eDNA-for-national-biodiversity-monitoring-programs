{
 "cells": [
  {
   "cell_type": "code",
   "execution_count": 1,
   "metadata": {},
   "outputs": [
    {
     "name": "stdin",
     "output_type": "stream",
     "text": [
      "Email:  mats.topel@marine.gu.se\n"
     ]
    }
   ],
   "source": [
    "from Bio import Entrez\n",
    "import pickle\n",
    "from lib.Publications import Publication\n",
    "\n",
    "# Always tell NCBI who you are\n",
    "Entrez.email = input(\"Email: \")"
   ]
  },
  {
   "cell_type": "markdown",
   "metadata": {},
   "source": [
    "# Custom functions"
   ]
  },
  {
   "cell_type": "code",
   "execution_count": 2,
   "metadata": {},
   "outputs": [],
   "source": [
    "# Store the search results locally\n",
    "record_cash = {}\n",
    "\n",
    "# Download individual records\n",
    "def get_record(pubmedID):\n",
    "    # Check if the publication has already been downloaded\n",
    "    try:\n",
    "        return record_cash[pubmedID]\n",
    "    except KeyError:\n",
    "        handle = Entrez.efetch(db=\"pubmed\", \\\n",
    "                               rettype=\"text\", \\\n",
    "                               id=pubmedID)\n",
    "        result = Entrez.read(handle)\n",
    "        \n",
    "        # Update the cashed results\n",
    "        record_cash[pubmedID] = result\n",
    "        return result\n",
    "\n",
    "# Print progress\n",
    "def progress(x = None, y = None):\n",
    "    # Print progress\n",
    "    prog = str(x) + \"/\" + str(y)\n",
    "    print(prog, end=\"\\r\")"
   ]
  },
  {
   "cell_type": "markdown",
   "metadata": {},
   "source": [
    "# Query string"
   ]
  },
  {
   "cell_type": "code",
   "execution_count": 3,
   "metadata": {},
   "outputs": [],
   "source": [
    "# Some usefull search tags to use:\n",
    "# https://pubmed.ncbi.nlm.nih.gov/help/#search-tags\n",
    "#\n",
    "# All Fields [all]\n",
    "# Author [au]\n",
    "# Journal [ta]\n",
    "# PMID [pmid]\n",
    "# Publication Type [pt]\n",
    "# Text Words [tw]\n",
    "# Title [ti]\n",
    "# Title/Abstract [tiab]\n",
    "\n",
    "\n",
    "# [Author]\n",
    "# [Journal]\n",
    "# [Keyword]\n",
    "# [Title]\n",
    "# [pt] (Pulication type)\n",
    "# Publication types: https://pubmed.ncbi.nlm.nih.gov/help/#publication-types\n",
    "#query = \"reproducible AND eDNA\"\n",
    "#query = \"eDNA AND metabarcoding\"\n",
    "query = \"eDNA[tiab] AND metabarcoding\""
   ]
  },
  {
   "cell_type": "markdown",
   "metadata": {},
   "source": [
    "# Search PubMed"
   ]
  },
  {
   "cell_type": "code",
   "execution_count": 4,
   "metadata": {},
   "outputs": [],
   "source": [
    "# DevNote: Check the default retmax value\n",
    "handle = Entrez.esearch(db=\"pubmed\", \\\n",
    "                        term=query, \\\n",
    "                        retmax=100000)\n",
    "\n",
    "record = Entrez.read(handle)"
   ]
  },
  {
   "cell_type": "markdown",
   "metadata": {},
   "source": [
    "# Explore the result"
   ]
  },
  {
   "cell_type": "code",
   "execution_count": 6,
   "metadata": {},
   "outputs": [
    {
     "name": "stdout",
     "output_type": "stream",
     "text": [
      "Effects of sampling strategies and DNA extraction methods on eDNA metabarcoding: A case study of estuarine fish diversity monitoring.\n",
      "['DNA extraction', 'Estuarine ecosystem', 'Fish diversity', 'Sampling strategies', 'eDNA metabarcoding']\n",
      "Zoological research\n"
     ]
    },
    {
     "ename": "IndexError",
     "evalue": "list index out of range",
     "output_type": "error",
     "traceback": [
      "\u001b[0;31m---------------------------------------------------------------------------\u001b[0m",
      "\u001b[0;31mIndexError\u001b[0m                                Traceback (most recent call last)",
      "\u001b[0;32m<ipython-input-6-d39a9b0a178d>\u001b[0m in \u001b[0;36m<module>\u001b[0;34m\u001b[0m\n\u001b[1;32m     27\u001b[0m \u001b[0;34m\u001b[0m\u001b[0m\n\u001b[1;32m     28\u001b[0m \u001b[0;31m# Date\u001b[0m\u001b[0;34m\u001b[0m\u001b[0;34m\u001b[0m\u001b[0;34m\u001b[0m\u001b[0m\n\u001b[0;32m---> 29\u001b[0;31m \u001b[0my\u001b[0m \u001b[0;34m=\u001b[0m \u001b[0mx\u001b[0m\u001b[0;34m[\u001b[0m\u001b[0;34m\"PubmedArticle\"\u001b[0m\u001b[0;34m]\u001b[0m\u001b[0;34m[\u001b[0m\u001b[0;36m0\u001b[0m\u001b[0;34m]\u001b[0m\u001b[0;34m[\u001b[0m\u001b[0;34m\"MedlineCitation\"\u001b[0m\u001b[0;34m]\u001b[0m\u001b[0;34m[\u001b[0m\u001b[0;34m\"Article\"\u001b[0m\u001b[0;34m]\u001b[0m\u001b[0;34m[\u001b[0m\u001b[0;34m\"ArticleDate\"\u001b[0m\u001b[0;34m]\u001b[0m\u001b[0;34m[\u001b[0m\u001b[0;36m0\u001b[0m\u001b[0;34m]\u001b[0m\u001b[0;34m\u001b[0m\u001b[0;34m\u001b[0m\u001b[0m\n\u001b[0m\u001b[1;32m     30\u001b[0m \u001b[0mprint\u001b[0m\u001b[0;34m(\u001b[0m\u001b[0my\u001b[0m\u001b[0;34m[\u001b[0m\u001b[0;34m\"Year\"\u001b[0m\u001b[0;34m]\u001b[0m \u001b[0;34m+\u001b[0m \u001b[0;34m\"-\"\u001b[0m \u001b[0;34m+\u001b[0m \u001b[0my\u001b[0m\u001b[0;34m[\u001b[0m\u001b[0;34m\"Month\"\u001b[0m\u001b[0;34m]\u001b[0m \u001b[0;34m+\u001b[0m \u001b[0;34m\"-\"\u001b[0m \u001b[0;34m+\u001b[0m \u001b[0my\u001b[0m\u001b[0;34m[\u001b[0m\u001b[0;34m\"Day\"\u001b[0m\u001b[0;34m]\u001b[0m\u001b[0;34m)\u001b[0m\u001b[0;34m\u001b[0m\u001b[0;34m\u001b[0m\u001b[0m\n",
      "\u001b[0;31mIndexError\u001b[0m: list index out of range"
     ]
    }
   ],
   "source": [
    "for pubmedID in record[\"IdList\"]:\n",
    "    x = get_record(pubmedID)\n",
    "    break\n",
    "    \n",
    "    \n",
    "# Title\n",
    "print(x[\"PubmedArticle\"][0][\"MedlineCitation\"][\"Article\"][\"ArticleTitle\"])\n",
    "\n",
    "# Keywords\n",
    "keywords = []\n",
    "for i in x[\"PubmedArticle\"][0][\"MedlineCitation\"][\"KeywordList\"][0]:\n",
    "    keywords.append(str(i))\n",
    "print(keywords)\n",
    "\n",
    "# Abstract\n",
    "x[\"PubmedArticle\"][0][\"MedlineCitation\"][\"Article\"][\"Abstract\"][\"AbstractText\"][0]\n",
    "\n",
    "# DOI\n",
    "x[\"PubmedArticle\"][0][\"MedlineCitation\"][\"Article\"][\"ELocationID\"][0].title()\n",
    "\n",
    "# eid\n",
    "\n",
    "# pii\n",
    "\n",
    "# Journal\n",
    "print(x[\"PubmedArticle\"][0][\"MedlineCitation\"][\"Article\"][\"Journal\"][\"Title\"])\n",
    "\n",
    "# Date\n",
    "y = x[\"PubmedArticle\"][0][\"MedlineCitation\"][\"Article\"][\"ArticleDate\"][0]\n",
    "print(y[\"Year\"] + \"-\" + y[\"Month\"] + \"-\" + y[\"Day\"])"
   ]
  },
  {
   "cell_type": "code",
   "execution_count": 8,
   "metadata": {},
   "outputs": [
    {
     "name": "stdout",
     "output_type": "stream",
     "text": [
      "Number of records: 330\n"
     ]
    }
   ],
   "source": [
    "# Display the number of results found for this search string\n",
    "print(f\"Number of records: {len(record['IdList'])}\")"
   ]
  },
  {
   "cell_type": "markdown",
   "metadata": {},
   "source": [
    "# Explore the result in Pandas"
   ]
  },
  {
   "cell_type": "code",
   "execution_count": 9,
   "metadata": {},
   "outputs": [],
   "source": [
    "import pandas as pd"
   ]
  },
  {
   "cell_type": "markdown",
   "metadata": {},
   "source": [
    "# Explore keywords"
   ]
  },
  {
   "cell_type": "code",
   "execution_count": 10,
   "metadata": {},
   "outputs": [
    {
     "name": "stdout",
     "output_type": "stream",
     "text": [
      "330/330\r"
     ]
    },
    {
     "data": {
      "text/html": [
       "<div>\n",
       "<style scoped>\n",
       "    .dataframe tbody tr th:only-of-type {\n",
       "        vertical-align: middle;\n",
       "    }\n",
       "\n",
       "    .dataframe tbody tr th {\n",
       "        vertical-align: top;\n",
       "    }\n",
       "\n",
       "    .dataframe thead th {\n",
       "        text-align: right;\n",
       "    }\n",
       "</style>\n",
       "<table border=\"1\" class=\"dataframe\">\n",
       "  <thead>\n",
       "    <tr style=\"text-align: right;\">\n",
       "      <th></th>\n",
       "      <th>0</th>\n",
       "    </tr>\n",
       "  </thead>\n",
       "  <tbody>\n",
       "    <tr>\n",
       "      <th>metabarcoding</th>\n",
       "      <td>77</td>\n",
       "    </tr>\n",
       "    <tr>\n",
       "      <th>eDNA</th>\n",
       "      <td>77</td>\n",
       "    </tr>\n",
       "    <tr>\n",
       "      <th>environmental DNA</th>\n",
       "      <td>63</td>\n",
       "    </tr>\n",
       "    <tr>\n",
       "      <th>Metabarcoding</th>\n",
       "      <td>31</td>\n",
       "    </tr>\n",
       "    <tr>\n",
       "      <th>eDNA metabarcoding</th>\n",
       "      <td>27</td>\n",
       "    </tr>\n",
       "    <tr>\n",
       "      <th>biodiversity</th>\n",
       "      <td>23</td>\n",
       "    </tr>\n",
       "    <tr>\n",
       "      <th>biomonitoring</th>\n",
       "      <td>21</td>\n",
       "    </tr>\n",
       "    <tr>\n",
       "      <th>Environmental DNA</th>\n",
       "      <td>20</td>\n",
       "    </tr>\n",
       "    <tr>\n",
       "      <th>high-throughput sequencing</th>\n",
       "      <td>12</td>\n",
       "    </tr>\n",
       "    <tr>\n",
       "      <th>Biomonitoring</th>\n",
       "      <td>12</td>\n",
       "    </tr>\n",
       "    <tr>\n",
       "      <th>High-throughput sequencing</th>\n",
       "      <td>10</td>\n",
       "    </tr>\n",
       "    <tr>\n",
       "      <th>monitoring</th>\n",
       "      <td>9</td>\n",
       "    </tr>\n",
       "    <tr>\n",
       "      <th>DNA barcoding</th>\n",
       "      <td>8</td>\n",
       "    </tr>\n",
       "    <tr>\n",
       "      <th>community ecology</th>\n",
       "      <td>8</td>\n",
       "    </tr>\n",
       "    <tr>\n",
       "      <th>environmental DNA (eDNA)</th>\n",
       "      <td>7</td>\n",
       "    </tr>\n",
       "    <tr>\n",
       "      <th>fish</th>\n",
       "      <td>7</td>\n",
       "    </tr>\n",
       "    <tr>\n",
       "      <th>DNA metabarcoding</th>\n",
       "      <td>5</td>\n",
       "    </tr>\n",
       "    <tr>\n",
       "      <th>Metagenomics</th>\n",
       "      <td>5</td>\n",
       "    </tr>\n",
       "    <tr>\n",
       "      <th>Biodiversity</th>\n",
       "      <td>5</td>\n",
       "    </tr>\n",
       "    <tr>\n",
       "      <th>next-generation sequencing</th>\n",
       "      <td>5</td>\n",
       "    </tr>\n",
       "  </tbody>\n",
       "</table>\n",
       "</div>"
      ],
      "text/plain": [
       "                             0\n",
       "metabarcoding               77\n",
       "eDNA                        77\n",
       "environmental DNA           63\n",
       "Metabarcoding               31\n",
       "eDNA metabarcoding          27\n",
       "biodiversity                23\n",
       "biomonitoring               21\n",
       "Environmental DNA           20\n",
       "high-throughput sequencing  12\n",
       "Biomonitoring               12\n",
       "High-throughput sequencing  10\n",
       "monitoring                   9\n",
       "DNA barcoding                8\n",
       "community ecology            8\n",
       "environmental DNA (eDNA)     7\n",
       "fish                         7\n",
       "DNA metabarcoding            5\n",
       "Metagenomics                 5\n",
       "Biodiversity                 5\n",
       "next-generation sequencing   5"
      ]
     },
     "execution_count": 10,
     "metadata": {},
     "output_type": "execute_result"
    }
   ],
   "source": [
    "keywords = []\n",
    "prog = 1\n",
    "\n",
    "for pubmedID in record[\"IdList\"]:\n",
    "    x = get_record(pubmedID)\n",
    "    try:\n",
    "        for i in x[\"PubmedArticle\"][0][\"MedlineCitation\"][\"KeywordList\"][0]:\n",
    "            keywords.append(str(i))\n",
    "    except IndexError:\n",
    "        pass\n",
    "    # Print progress\n",
    "    progress(prog, len(record[\"IdList\"]))\n",
    "    prog += 1\n",
    "    \n",
    "# Count the keywords\n",
    "count = {}\n",
    "for i in keywords:\n",
    "    i = str(i)\n",
    "    try:\n",
    "        count[i] += 1\n",
    "    except:\n",
    "        count[i] = 1\n",
    "\n",
    "# Turn the dictionary of keywords into a Pandas dataframe\n",
    "kw = pd.DataFrame.from_dict(count, orient='index')\n",
    "\n",
    "# Display the 20 top keywords\n",
    "kw.sort_values(0, ascending=False).head(20)"
   ]
  },
  {
   "cell_type": "markdown",
   "metadata": {},
   "source": [
    "# Explore abstracts in html format"
   ]
  },
  {
   "cell_type": "code",
   "execution_count": 13,
   "metadata": {},
   "outputs": [
    {
     "name": "stdout",
     "output_type": "stream",
     "text": [
      "330/330\r"
     ]
    }
   ],
   "source": [
    "publications = []\n",
    "\n",
    "prog = 1\n",
    "with open(\"original_abstracts_PubMed.html\", \"w\") as file:\n",
    "    for pubmedID in record[\"IdList\"]:\n",
    "        \n",
    "        progress(prog, len(record[\"IdList\"]))\n",
    "        \n",
    "        paper = get_record(pubmedID)\n",
    "        \n",
    "        # Title\n",
    "        title = \"<h1>\" + paper[\"PubmedArticle\"][0][\"MedlineCitation\"][\"Article\"][\"ArticleTitle\"] + \"</h1>\" + \"\\n\"\n",
    "        title_obj= paper[\"PubmedArticle\"][0][\"MedlineCitation\"][\"Article\"][\"ArticleTitle\"]\n",
    "        \n",
    "        # DOI\n",
    "        try:  \n",
    "            doi = \"<p><a href=\\\"https://doi.org/\" + \\\n",
    "                  paper[\"PubmedArticle\"][0][\"MedlineCitation\"][\"Article\"][\"ELocationID\"][0].title() + \\\n",
    "                  \"\\\">\" + \\\n",
    "                  \"doi:\" + \\\n",
    "                  paper[\"PubmedArticle\"][0][\"MedlineCitation\"][\"Article\"][\"ELocationID\"][0].title() + \\\n",
    "                  \"</a></p>\" + \\\n",
    "                  \"\\n\"\n",
    "            doi_obj = paper[\"PubmedArticle\"][0][\"MedlineCitation\"][\"Article\"][\"ELocationID\"][0].title()\n",
    "        except:\n",
    "            doi = \"<p>No DOI</p>\"\n",
    "            doi_obj = None\n",
    "        \n",
    "        # Keywords\n",
    "        try:\n",
    "            keywords = []\n",
    "            for i in paper[\"PubmedArticle\"][0][\"MedlineCitation\"][\"KeywordList\"][0]:\n",
    "                keywords.append(str(i))\n",
    "            #keywords = paper[\"PubmedArticle\"][0][\"MedlineCitation\"][\"KeywordList\"][0]\n",
    "        except:\n",
    "            keywords = \"<p>No keywords</p>\"\n",
    "        \n",
    "        # Abstract\n",
    "        try:\n",
    "            abstract = \"<p>\" + \\\n",
    "                       paper[\"PubmedArticle\"][0][\"MedlineCitation\"][\"Article\"][\"Abstract\"][\"AbstractText\"][0] + \\\n",
    "                       \"</p>\" + \\\n",
    "                       \"\\n\"\n",
    "            abstract_obj = paper[\"PubmedArticle\"][0][\"MedlineCitation\"][\"Article\"][\"Abstract\"][\"AbstractText\"][0]\n",
    "        except KeyError:\n",
    "            abstract = \"<p>No Abstract</p>\"\n",
    "            abstract_obj = None\n",
    "            \n",
    "        string = title + doi + str(keywords) + abstract\n",
    "\n",
    "        publications.append(Publication(title = title_obj, doi = doi_obj, abstract = abstract_obj))\n",
    "\n",
    "        prog += 1\n",
    "        file.write(string)"
   ]
  },
  {
   "cell_type": "markdown",
   "metadata": {},
   "source": [
    "# Save result to binary file"
   ]
  },
  {
   "cell_type": "code",
   "execution_count": 14,
   "metadata": {},
   "outputs": [],
   "source": [
    "# Save the result to a binary file, and analyse it together with data from other searches.\n",
    "pickle.dump(publications, open(\"pubmed_eDNA_metabarcoding.p\" ,\"wb\"))"
   ]
  },
  {
   "cell_type": "code",
   "execution_count": null,
   "metadata": {},
   "outputs": [],
   "source": []
  }
 ],
 "metadata": {
  "kernelspec": {
   "display_name": "Python 3",
   "language": "python",
   "name": "python3"
  },
  "language_info": {
   "codemirror_mode": {
    "name": "ipython",
    "version": 3
   },
   "file_extension": ".py",
   "mimetype": "text/x-python",
   "name": "python",
   "nbconvert_exporter": "python",
   "pygments_lexer": "ipython3",
   "version": "3.8.3"
  }
 },
 "nbformat": 4,
 "nbformat_minor": 4
}
