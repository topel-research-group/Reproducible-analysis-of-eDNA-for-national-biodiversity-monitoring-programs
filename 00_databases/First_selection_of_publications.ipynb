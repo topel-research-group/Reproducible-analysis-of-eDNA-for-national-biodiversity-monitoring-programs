{
 "cells": [
  {
   "cell_type": "code",
   "execution_count": 1,
   "metadata": {},
   "outputs": [],
   "source": [
    "import pickle\n",
    "from lib.Publications import Publication"
   ]
  },
  {
   "cell_type": "markdown",
   "metadata": {},
   "source": [
    "# Read in the data"
   ]
  },
  {
   "cell_type": "code",
   "execution_count": 2,
   "metadata": {},
   "outputs": [],
   "source": [
    "merged_publications_file = open(\"merged_publications.p\", \"rb\")\n",
    "merged_publications = pickle.load(merged_publications_file)"
   ]
  },
  {
   "cell_type": "markdown",
   "metadata": {},
   "source": [
    "# Extract selected publications"
   ]
  },
  {
   "cell_type": "code",
   "execution_count": 3,
   "metadata": {},
   "outputs": [
    {
     "name": "stdout",
     "output_type": "stream",
     "text": [
      "Number of titles: 137\n",
      "Number of publications: 136\n",
      "WARNING: Titles without a match:\n",
      "Metabarcoding for use in Nordic routine aquatic biomonitoring : a validation study\n"
     ]
    }
   ],
   "source": [
    "# Store titles of selected titles in a list\n",
    "titles = []\n",
    "\n",
    "selected_file = open(\"papers_with_rellevant_titles.txt\", \"r\", encoding=\"latin-1\")\n",
    "for title in selected_file:\n",
    "    titles.append(title.rstrip())\n",
    "\n",
    "print(f\"Number of titles: {len(titles)}\")\n",
    "# Use the titles to extract all stored publication data\n",
    "selected_publications = []\n",
    "for publication in merged_publications:\n",
    "    if publication.get_title() in titles:\n",
    "        # Remove titles that was found\n",
    "        titles.remove(publication.get_title())\n",
    "        selected_publications.append(publication)\n",
    "\n",
    "# Sanity check        \n",
    "print(f\"Number of publications: {len(selected_publications)}\")\n",
    "print(\"WARNING: Titles without a match:\")\n",
    "for i in titles:\n",
    "    print(i)\n"
   ]
  },
  {
   "cell_type": "markdown",
   "metadata": {},
   "source": [
    "# Write html data to file"
   ]
  },
  {
   "cell_type": "code",
   "execution_count": 5,
   "metadata": {},
   "outputs": [],
   "source": [
    "file = open(\"first_selection_of_papers.html\", \"w\")\n",
    "\n",
    "for pub in selected_publications:\n",
    "    file.write(pub.to_html())\n",
    "\n",
    "file.close()"
   ]
  },
  {
   "cell_type": "code",
   "execution_count": null,
   "metadata": {},
   "outputs": [],
   "source": []
  }
 ],
 "metadata": {
  "kernelspec": {
   "display_name": "Python 3",
   "language": "python",
   "name": "python3"
  },
  "language_info": {
   "codemirror_mode": {
    "name": "ipython",
    "version": 3
   },
   "file_extension": ".py",
   "mimetype": "text/x-python",
   "name": "python",
   "nbconvert_exporter": "python",
   "pygments_lexer": "ipython3",
   "version": "3.8.3"
  }
 },
 "nbformat": 4,
 "nbformat_minor": 4
}
