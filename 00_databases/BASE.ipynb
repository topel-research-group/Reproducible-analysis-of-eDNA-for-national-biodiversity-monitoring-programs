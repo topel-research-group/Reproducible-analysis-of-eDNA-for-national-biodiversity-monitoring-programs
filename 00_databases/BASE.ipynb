{
 "cells": [
  {
   "cell_type": "markdown",
   "metadata": {},
   "source": [
    "# BASE"
   ]
  },
  {
   "cell_type": "code",
   "execution_count": 1,
   "metadata": {},
   "outputs": [],
   "source": [
    "# To start using the BASE API, a request for access (unblocking of IP-address or IP-address range) \n",
    "# must first be sent to https://www.base-search.net/about/en/contact.php. More information can be \n",
    "# found at https://www.base-search.net/about/en/about_develop.php#chap02\n",
    "# The API is described at https://www.base-search.net/about/download/base_interface.pdf\n",
    "\n",
    "import requests\n",
    "from lib.Publications import Publication\n",
    "import pickle\n",
    "import time\n",
    "import json"
   ]
  },
  {
   "cell_type": "markdown",
   "metadata": {},
   "source": [
    "# Query string"
   ]
  },
  {
   "cell_type": "code",
   "execution_count": 27,
   "metadata": {},
   "outputs": [],
   "source": [
    "# Multi keyword search\n",
    "#\n",
    "# \"eDNA+metabarcoding\"\n",
    "# \"algebra+AND+(linear+OR+numerical)\"\"\n",
    "# \"(operator +OR+ algorithms)+ AND+ (linear +OR+ numerical)\"\n",
    "# \"linear+algebra+NOT+numerical\"\n",
    "# More examples can be found at https://www.base-search.net/about/download/base_interface.pdf\n",
    "\n",
    "#query = '(\"eDNA\" OR \"environmental DNA\" OR \"metabarcoding\" OR \"eRNA\" OR \"environmental RNA\") AND (\"biodiversity\" OR \"species richness\" OR \"monitoring\" OR \"biomonitoring\") AND (\"high throughput sequencing\" OR \"HTS\" OR \"throughput\")'\n",
    "#query = '(eDNA+OR+environmental+DNA+OR+metabarcoding+OR+eRNA+OR+environmental+RNA+)+AND+(biodiversity+OR+species+richness+OR+monitoring+OR+biomonitoring+)+AND+(high+throughput+sequencing+OR+HTS+OR+throughput)+dctype:11'\n",
    "#query = \"dctitle:eDNA+monitoring\"\n",
    "#query = \"dctitle:eDNA+monitoring+dctype:*\"\n",
    "#query = \"dctitle:eDNA+monitoring+dctype:+11*+14\" \n",
    "#query = \"dctitle:eDNA+monitoring+dctype:+14\"\n",
    "\n",
    "#query = \"dctitle:eDNA+monitoring\" #+dctype:+1*\" \n",
    "query = \"dctitle:eDNA+monitoring+dctype:+1\" \n",
    "\n",
    "\n",
    "\n",
    "#        eDNA+doctype%3A%2817+1A%29\n",
    "#query = \"eDNA+diatom+\"\n"
   ]
  },
  {
   "cell_type": "markdown",
   "metadata": {},
   "source": [
    "# Search BASE"
   ]
  },
  {
   "cell_type": "code",
   "execution_count": 28,
   "metadata": {},
   "outputs": [],
   "source": [
    "def search_db(query, offset):\n",
    "    # https://www.base-search.net/about/download/base_interface.pdf\n",
    "    print(f\"https://api.base-search.net/cgi-bin/BaseHttpSearchInterface.fcgi?func=PerformSearch&query={query}&hits=100&offset={offset}&format=json\")\n",
    "    return requests.get(f\"https://api.base-search.net/cgi-bin/BaseHttpSearchInterface.fcgi?func=PerformSearch&query={query}&hits=120&offset={offset}&format=json\")"
   ]
  },
  {
   "cell_type": "code",
   "execution_count": 29,
   "metadata": {},
   "outputs": [
    {
     "name": "stdout",
     "output_type": "stream",
     "text": [
      "https://api.base-search.net/cgi-bin/BaseHttpSearchInterface.fcgi?func=PerformSearch&query=dctitle:eDNA+monitoring+dctype:+1&hits=100&offset=0&format=json\n",
      "Offset: 0\n",
      "Number of matches: 75\n"
     ]
    }
   ],
   "source": [
    "# The maximum number of records that can be retreived is 120.\n",
    "# This loop will download all records (up to record number \n",
    "# 999 + 120 = 1119) if this limit is exceded.\n",
    "\n",
    "offset = 0\n",
    "results = []\n",
    "done = False\n",
    "\n",
    "while not done:\n",
    "        \n",
    "    r = search_db(query, offset)\n",
    "    \n",
    "    results.append(r)\n",
    "    print(f\"Offset: {offset}\")\n",
    "    # Rate limiting: One request per second (1 QPS).\n",
    "    time.sleep(1)\n",
    "\n",
    "    # Maximum offset is 999\n",
    "    if offset < 960:\n",
    "        offset += 120\n",
    "    else:\n",
    "        done = True      \n",
    "    \n",
    "    # Check how many hits where found\n",
    "    hits = 0\n",
    "    for pub in r.json()['response']['docs']:\n",
    "        hits += 1\n",
    "    \n",
    "#    hits = int(r.json()['responseHeader']['params']['rows'])\n",
    "    print(f\"Number of matches: {hits}\")\n",
    "    if hits != 120:\n",
    "        done = True"
   ]
  },
  {
   "cell_type": "code",
   "execution_count": 25,
   "metadata": {},
   "outputs": [
    {
     "name": "stdout",
     "output_type": "stream",
     "text": [
      "Number of records: 2\n"
     ]
    }
   ],
   "source": [
    "# Number of publications\n",
    "n = 0\n",
    "for query in results:\n",
    "    for pub in query.json()['response']['docs']:\n",
    "        n += 1\n",
    "print(f\"Number of records: {n}\")"
   ]
  },
  {
   "cell_type": "markdown",
   "metadata": {},
   "source": [
    "# Explore the result"
   ]
  },
  {
   "cell_type": "code",
   "execution_count": 26,
   "metadata": {},
   "outputs": [
    {
     "name": "stdout",
     "output_type": "stream",
     "text": [
      "['http://hdl.handle.net/10251/65124', 'https://doi.org/10.1371/journal.pone.0119311']\n",
      "The Use of Genus-Specific Amplicon Pyrosequencing to Assess Phytophthora Species Diversity Using eDNA from Soil and Water in Northern Spain\n",
      "[EN] Phytophthora is one of the most important and aggressive plant pathogenic genera in agriculture and forestry. Early detection and identification of its pathways of infection and spread are of high importance to minimize the threat they pose to natural ecosystems. eDNA was extracted from soil and water from forests and plantations in the north of Spain. Phytophthora-specific primers were adapted for use in high-throughput Sequencing (HTS). Primers were tested in a control reaction containing eight Phytophthora species and applied to water and soil eDNA samples from northern Spain. Different score coverage threshold values were tested for optimal Phytophthora species separation in a custom-curated database and in the control reaction. Clustering at 99% was the optimal criteria to separate most of the Phytophthora species. Multiple Molecular Operational Taxonomic Units (MOTUs) corresponding to 36 distinct Phytophthora species were amplified in the environmental samples. Pyrosequencing of amplicons from soil samples revealed low Phytophthora diversity (13 species) in comparison with the 35 species detected in water samples. Thirteen of the MOTUs detected in rivers and streams showed no close match to sequences in international sequence databases, revealing that eDNA pyrosequencing is a useful strategy to assess Phytophthora species diversity in natural ecosystems. ; This project has been supported by the Instituto Nacional de Investigacion y Tecnologia Agraria y Alimentaria (EUPHRESCO-CEP: \"Current and Emerging Phytophthoras: Research Supporting Risk Assessment And Risk Management\"). The funders had no role in study design, data collection and analysis, decision to publish, or preparation of the manuscript. ; Català, S.; Pérez Sierra, AM.; Abad Campos, P. (2015). The Use of Genus-Specific Amplicon Pyrosequencing to Assess Phytophthora Species Diversity Using eDNA from Soil and Water in Northern Spain. PLoS ONE. 10(3):1-14. doi:10.1371/journal.pone.0119311 ; S ; 1 ; 14 ; 10 ; 3 ; REICHARD, S. H., & WHITE, P. (2001). Horticulture as a Pathway of Invasive Plant Introductions in the United States. BioScience, 51(2), 103. doi:10.1641/0006-3568(2001)051[0103:haapoi]2.0.co;2 ; Brasier, C. M. (2008). The biosecurity threat to the UK and global environment from international trade in plants. Plant Pathology, 57(5), 792-808. doi:10.1111/j.1365-3059.2008.01886.x ; TABERLET, P., COISSAC, E., HAJIBABAEI, M., & RIESEBERG, L. H. (2012). Environmental DNA. Molecular Ecology, 21(8), 1789-1793. doi:10.1111/j.1365-294x.2012.05542.x ; Sogin, M. L., Morrison, H. G., Huber, J. A., Welch, D. M., Huse, S. M., Neal, P. R., … Herndl, G. J. (2006). Microbial diversity in the deep sea and the underexplored «rare biosphere». Proceedings of the National Academy of Sciences, 103(32), 12115-12120. doi:10.1073/pnas.0605127103 ; Roesch, L. F. W., Fulthorpe, R. R., Riva, A., Casella, G., Hadwin, A. K. M., Kent, A. D., … Triplett, E. W. (2007). Pyrosequencing enumerates and contrasts soil microbial diversity. The ISME Journal, 1(4), 283-290. doi:10.1038/ismej.2007.53 ; Acosta-Martínez, V., Dowd, S., Sun, Y., & Allen, V. (2008). Tag-encoded pyrosequencing analysis of bacterial diversity in a single soil type as affected by management and land use. Soil Biology and Biochemistry, 40(11), 2762-2770. doi:10.1016/j.soilbio.2008.07.022 ; Jumpponen, A., & Jones, K. L. (2009). Massively parallel 454 sequencing indicates hyperdiverse fungal communities in temperateQuercus macrocarpaphyllosphere. New Phytologist, 184(2), 438-448. doi:10.1111/j.1469-8137.2009.02990.x ; Nilsson, R. H., Ryberg, M., Abarenkov, K., SjÃ¶kvist, E., & Kristiansson, E. (2009). The ITS region as a target for characterization of fungal communities using emerging sequencing technologies. FEMS Microbiology Letters, 296(1), 97-101. doi:10.1111/j.1574-6968.2009.01618.x ; Coince, A., Caël, O., Bach, C., Lengellé, J., Cruaud, C., Gavory, F., … Buée, M. (2013). Below-ground fine-scale distribution and soil versus fine root detection of fungal and soil oomycete communities in a French beech forest. Fungal Ecology, 6(3), 223-235. doi:10.1016/j.funeco.2013.01.002 ; Vannini, A., Bruni, N., Tomassini, A., Franceschini, S., & Vettraino, A. M. (2013). Pyrosequencing of environmental soil samples reveals biodiversity of thePhytophthoraresident community in chestnut forests. FEMS Microbiology Ecology, 85(3), 433-442. doi:10.1111/1574-6941.12132 ; Jerde, C. L., Mahon, A. R., Chadderton, W. L., & Lodge, D. M. (2011). «Sight-unseen» detection of rare aquatic species using environmental DNA. Conservation Letters, 4(2), 150-157. doi:10.1111/j.1755-263x.2010.00158.x ; Monchy, S., Sanciu, G., Jobard, M., Rasconi, S., Gerphagnon, M., Chabé, M., … Sime-Ngando, T. (2011). Exploring and quantifying fungal diversity in freshwater lake ecosystems using rDNA cloning/sequencing and SSU tag pyrosequencing. Environmental Microbiology, 13(6), 1433-1453. doi:10.1111/j.1462-2920.2011.02444.x ; Jobard, M., Rasconi, S., Solinhac, L., Cauchie, H.-M., & Sime-Ngando, T. (2012). Molecular and morphological diversity of fungi and the associated functions in three European nearby lakes. Environmental Microbiology, 14(9), 2480-2494. doi:10.1111/j.1462-2920.2012.02771.x ; Livermore, J. A., & Mattes, T. E. (2013). Phylogenetic detection of novel Cryptomycota in an Iowa (United States) aquifer and from previously collected marine and freshwater targeted high-throughput sequencing sets. Environmental Microbiology, 15(8), 2333-2341. doi:10.1111/1462-2920.12106 ; NAKAYAMA, J., JIANG, J., WATANABE, K., CHEN, K., NINXIN, H., MATSUDA, K., … LEE, Y.-K. (2013). Up to Species-level Community Analysis of Human Gut Microbiota by 16S rRNA Amplicon Pyrosequencing. Bioscience of Microbiota, Food and Health, 32(2), 69-76. doi:10.12938/bmfh.32.69 ; CREER, S., & SINNIGER, F. (2012). Cosmopolitanism of microbial eukaryotes in the global deep seas. Molecular Ecology, 21(5), 1033-1035. doi:10.1111/j.1365-294x.2012.05437.x ; Davey, M. L., Heegaard, E., Halvorsen, R., Kauserud, H., & Ohlson, M. (2012). Amplicon-pyrosequencing-based detection of compositional shifts in bryophyte-associated fungal communities along an elevation gradient. Molecular Ecology, 22(2), 368-383. doi:10.1111/mec.12122 ; Weber, C. F., Vilgalys, R., & Kuske, C. R. (2013). Changes in Fungal Community Composition in Response to Elevated Atmospheric CO2 and Nitrogen Fertilization Varies with Soil Horizon. Frontiers in Microbiology, 4. doi:10.3389/fmicb.2013.00078 ; Bergmark, L., Poulsen, P. H. B., Al-Soud, W. A., Norman, A., Hansen, L. H., & Sørensen, S. J. (2012). Assessment of the specificity of Burkholderia and Pseudomonas qPCR assays for detection of these genera in soil using 454 pyrosequencing. FEMS Microbiology Letters, 333(1), 77-84. doi:10.1111/j.1574-6968.2012.02601.x ; Li, L., Abu Al-Soud, W., Bergmark, L., Riber, L., Hansen, L. H., Magid, J., & Sørensen, S. J. (2013). Investigating the Diversity of Pseudomonas spp. in Soil Using Culture Dependent and Independent Techniques. Current Microbiology, 67(4), 423-430. doi:10.1007/s00284-013-0382-x ; SCHENA, L., HUGHES, K. J. D., & COOKE, D. E. L. (2006). Detection and quantification ofPhytophthora ramorum,P. kernoviae,P. citricolaandP. quercinain symptomatic leaves by multiplex real-time PCR. Molecular Plant Pathology, 7(5), 365-379. doi:10.1111/j.1364-3703.2006.00345.x ; Tooley, P. W., Martin, F. N., Carras, M. M., & Frederick, R. D. (2006). Real-Time Fluorescent Polymerase Chain Reaction Detection ofPhytophthora ramorumandPhytophthora pseudosyringaeUsing Mitochondrial Gene Regions. Phytopathology, 96(4), 336-345. doi:10.1094/phyto-96-0336 ; Pavón, C. F., Babadoost, M., & Lambert, K. N. (2008). Quantification of Phytophthora capsici Oospores in Soil by Sieving-Centrifugation and Real-Time Polymerase Chain Reaction. Plant Disease, 92(1), 143-149. doi:10.1094/pdis-92-1-0143 ; Than, D. J., Hughes, K. J. D., Boonhan, N., Tomlinson, J. A., Woodhall, J. W., & Bellgard, S. E. (2013). A TaqMan real-time PCR assay for the detection ofPhytophthora‘taxon Agathis’ in soil, pathogen of Kauri in New Zealand. Forest Pathology, 43(4), 324-330. doi:10.1111/efp.12034 ; Chen, W., Djama, Z. R., Coffey, M. D., Martin, F. N., Bilodeau, G. J., Radmer, L., … Lévesque, C. A. (2013). Membrane-Based Oligonucleotide Array Developed from Multiple Markers for the Detection of Many Phytophthora Species. Phytopathology, 103(1), 43-54. doi:10.1094/phyto-04-12-0092-r ; Scibetta, S., Schena, L., Chimento, A., Cacciola, S. O., & Cooke, D. E. L. (2012). A molecular method to assess Phytophthora diversity in environmental samples. Journal of Microbiological Methods, 88(3), 356-368. doi:10.1016/j.mimet.2011.12.012 ; Català S, Pérez-Sierra A, Berbegal M, Abad-Campos P. First approach into the knowledge of the italic>Phytophthora /italic> species diversity in Mediterranean holm oak forests based on 454 parallel amplicon pyrosequencing of soil samples. italic>Phytophthora /italic> in Forest and Natural Ecosystems 6 sup>th /sup> International IUFRO Working Party 7.02.09 Meeting, Córdoba, Spain, pp 34; 2012. ; Català S, Pérez-Sierra A, Beltrán A, Abad-Campos P. Next Generation Sequencing shows italic>Phytophthora /italic> species diversity in soil samples of Macaronesian laurel forests from the Canary Islands. italic>Phytophthora /italic> in Forest and Natural Ecosystems 6 sup>th /sup> International IUFRO Working Party 7.02.09 Meeting, Córdoba, Spain, pp. 86; 2012. ; Cooke, D. E. L., Drenth, A., Duncan, J. M., Wagels, G., & Brasier, C. M. (2000). A Molecular Phylogeny of Phytophthora and Related Oomycetes. Fungal Genetics and Biology, 30(1), 17-32. doi:10.1006/fgbi.2000.1202 ; Andrews S. FastQC: a quality control tool for high throughput sequence data. Available: http://www.bioinformatics.bbsrc.ac.uk/projects/fastqc/ ; Chou, H.-H., & Holmes, M. H. (2001). DNA sequence quality trimming and vector removal. Bioinformatics, 17(12), 1093-1104. doi:10.1093/bioinformatics/17.12.1093 ; Altschul, S. (1997). Gapped BLAST and PSI-BLAST: a new generation of protein database search programs. Nucleic Acids Research, 25(17), 3389-3402. doi:10.1093/nar/25.17.3389 ; Edgar, R. C. (2004). MUSCLE: multiple sequence alignment with high accuracy and high throughput. Nucleic Acids Research, 32(5), 1792-1797. doi:10.1093/nar/gkh340 ; Gouy, M., Guindon, S., & Gascuel, O. (2009). SeaView Version 4: A Multiplatform Graphical User Interface for Sequence Alignment and Phylogenetic Tree Building. Molecular Biology and Evolution, 27(2), 221-224. doi:10.1093/molbev/msp259 ; Park, J., Park, B., Veeraraghavan, N., Jung, K., Lee, Y.-H., Blair, J. E., … Kang, S. (2008). Phytophthora Database: A Forensic Database Supporting the Identification and Monitoring of Phytophthora. Plant Disease, 92(6), 966-972. doi:10.1094/pdis-92-6-0966 ; Vettraino, A. M., Bonants, P., Tomassini, A., Bruni, N., & Vannini, A. (2012). Pyrosequencing as a tool for the detection ofPhytophthoraspecies: error rate and risk of false Molecular Operational Taxonomic Units. Letters in Applied Microbiology, 55(5), 390-396. doi:10.1111/j.1472-765x.2012.03310.x ; Jung, T., & Burgess, T. I. (2009). Re-evaluation of I>Phytophthora citricola /I> isolates from multiple woody hosts in Europe and North America reveals a new species, I>Phytophthora plurivora /I> sp. nov. Persoonia - Molecular Phylogeny and Evolution of Fungi, 22(1), 95-110. doi:10.3767/003158509x442612 ; Deagle, B. E., Eveson, J. P., & Jarman, S. N. (2006). Quantification of damage in DNA recovered from highly degraded samples – a case study on DNA in faeces. Frontiers in Zoology, 3(1). doi:10.1186/1742-9994-3-11 ; Dejean, T., Valentini, A., Duparc, A., Pellier-Cuit, S., Pompanon, F., Taberlet, P., & Miaud, C. (2011). Persistence of Environmental DNA in Freshwater Ecosystems. PLoS ONE, 6(8), e23398. doi:10.1371/journal.pone.0023398 ; Guha Roy S, Grunwald NJ. The plant destroyer genus italic>Phytophthora /italic> in the 21st century. In book: Review of Plant Pathology, Edition: Volume 6, Publisher: Scientific Publishers (India), Jodhpur, Editors: B.N.Chakraborty, B.B.L.Thakore, pp. In press; 2014. ; Brasier, C. M., Cooke, D. E. L., Duncan, J. M., & Hansen, E. M. (2003). Multiple new phenotypic taxa from trees and riparian ecosystems in Phytophthora gonapodyides-P. megasperma ITS Clade 6, which tend to be high-temperature tolerant and either inbreeding or sterile. Mycological Research, 107(3), 277-290. doi:10.1017/s095375620300738x ; Hüberli, D., Hardy, G. E. S. J., White, D., Williams, N., & Burgess, T. I. (2013). Fishing for Phytophthora from Western Australia’s waterways: a distribution and diversity survey. Australasian Plant Pathology, 42(3), 251-260. doi:10.1007/s13313-012-0195-6 ; Jung, T., Stukely, M. J. C., Hardy, G. E. S. J., White, D., Paap, T., Dunstan, W. A., & Burgess, T. I. (2011). Multiple new I>Phytophthora /I> species from ITS Clade 6 associated with natural ecosystems in Australia: evolutionary and ecological implications. Persoonia - Molecular Phylogeny and Evolution of Fungi, 26(1), 13-39. doi:10.3767/003158511x557577 ; Brasier, C. M., Sanchez-Hernandez, E., & Kirk, S. A. (2003). Phytophthora inundata sp. nov., a part heterothallic pathogen of trees and shrubs in wet or flooded soils. Mycological Research, 107(4), 477-484. doi:10.1017/s0953756203007548 ; Hansen, E. M., Reeser, P. W., & Sutton, W. (2012). PhytophthoraBeyond Agriculture. Annual Review of Phytopathology, 50(1), 359-378. doi:10.1146/annurev-phyto-081211-172946 ; Reeser, P. W., Sutton, W., Hansen, E. M., Remigi, P., & Adams, G. C. (2011). Phytophthora species in forest streams in Oregon and Alaska. Mycologia, 103(1), 22-35. doi:10.3852/10-013 ; Nechwatal, J., Bakonyi, J., Cacciola, S. O., Cooke, D. E. L., Jung, T., Nagy, Z. Á., … Brasier, C. M. (2012). The morphology, behaviour and molecular phylogeny ofPhytophthorataxon Salixsoil and its redesignation asPhytophthora lacustrissp. nov. Plant Pathology, 62(2), 355-369. doi:10.1111/j.1365-3059.2012.02638.x ; Huai, W. -x., Tian, G., Hansen, E. M., Zhao, W. -x., Goheen, E. M., Grünwald, N. J., & Cheng, C. (2013). Identification ofPhytophthoraspecies baited and isolated from forest soil and streams in northwestern Yunnan province, China. Forest Pathology, 43(2), 87-103. doi:10.1111/efp.12015 ; Oh, E., Gryzenhout, M., Wingfield, B. D., Wingfield, M. J., & Burgess, T. I. (2013). Surveys of soil and water reveal a goldmine of Phytophthora diversity in South African natural ecosystems. IMA Fungus, 4(1), 123-131. doi:10.5598/imafungus.2013.04.01.12\n",
      "['10.1371/journal.pone.0119311']\n",
      "['Phytophthora detection', 'Forest pathogens', 'PRODUCCION VEGETAL']\n"
     ]
    }
   ],
   "source": [
    "#dir(i.json())\n",
    "#i.json().keys()\n",
    "#i.json().values()\n",
    "\n",
    "#for x in i.json().items():\n",
    "#    print(x)\n",
    "    \n",
    "#for i in pub.json()['response']['docs']:\n",
    "#    print(pub.keys())\n",
    "#    print(pub['dccollection'])\n",
    "\n",
    "# URL\n",
    "print(pub['dcidentifier'])\n",
    "# Title\n",
    "print(pub['dctitle'])\n",
    "# Abstract\n",
    "print(pub['dcdescription'])\n",
    "# DOI\n",
    "try:\n",
    "    print(pub['dcdoi'])\n",
    "except:\n",
    "    pass\n",
    "# Keywords\n",
    "print(pub['dcsubject'])\n",
    "    \n"
   ]
  },
  {
   "cell_type": "code",
   "execution_count": 20,
   "metadata": {},
   "outputs": [],
   "source": [
    "publications = []\n",
    "\n",
    "with open(\"original_abstracts_Reports_BASE.html\", \"w\") as file:\n",
    "    for query in results:\n",
    "        for pub in query.json()['response']['docs']:      \n",
    "        \n",
    "            title = \"<h1>\" + pub['dctitle'] + \"</h1>\" + \"\\n\"\n",
    "            \n",
    "            try:\n",
    "                doi = \"<p><a href=\\\"https://doi.org/\" + \\\n",
    "                        pub['dcdoi'][0] + \\\n",
    "                        \"\\\">\" + \\\n",
    "                        \"doi:\" + \\\n",
    "                        pub['dcdoi'][0] + \\\n",
    "                        \"</a></p>\" + \\\n",
    "                        \"\\n\"\n",
    "            except KeyError:\n",
    "                doi = \"<p>No DOI</p>\"\n",
    "                        \n",
    "            # First make sure there is a description for this item,\n",
    "            # then concatenate the list of descriptions if needed.\n",
    "        \n",
    "            try:\n",
    "                description = pub['dcdescription']\n",
    "            \n",
    "                abstract = \"<p>\" + \\\n",
    "                            description + \\\n",
    "                            \"</p>\" + \\\n",
    "                            \"\\n\"\n",
    "            except:\n",
    "                description = \"\"\n",
    "                abstract = \"<p>No Abstract</p>\"\n",
    "\n",
    "            try:\n",
    "                publications.append(Publication(title = str(pub['dctitle']), \n",
    "                                                doi = str(pub['dcdoi'][0]), \n",
    "                                                abstract = str(description)))\n",
    "            except KeyError:\n",
    "                publications.append(Publication(title = str(pub['dctitle']), \n",
    "                                                abstract = str(description)))\n",
    "        \n",
    "            string = title + doi + abstract\n",
    "        \n",
    "            file.write(string)"
   ]
  },
  {
   "cell_type": "markdown",
   "metadata": {},
   "source": [
    "# Save results to binary file"
   ]
  },
  {
   "cell_type": "code",
   "execution_count": 21,
   "metadata": {},
   "outputs": [],
   "source": [
    "# Save the result to a binary file, and analyse it together with data from other searches.\n",
    "pickle.dump(publications, open(\"reports_BASE.p\" ,\"wb\"))"
   ]
  },
  {
   "cell_type": "code",
   "execution_count": null,
   "metadata": {},
   "outputs": [],
   "source": []
  }
 ],
 "metadata": {
  "kernelspec": {
   "display_name": "Python 3 (ipykernel)",
   "language": "python",
   "name": "python3"
  },
  "language_info": {
   "codemirror_mode": {
    "name": "ipython",
    "version": 3
   },
   "file_extension": ".py",
   "mimetype": "text/x-python",
   "name": "python",
   "nbconvert_exporter": "python",
   "pygments_lexer": "ipython3",
   "version": "3.7.10"
  }
 },
 "nbformat": 4,
 "nbformat_minor": 4
}
