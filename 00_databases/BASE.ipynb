{
 "cells": [
  {
   "cell_type": "markdown",
   "metadata": {},
   "source": [
    "# BASE"
   ]
  },
  {
   "cell_type": "code",
   "execution_count": 15,
   "metadata": {},
   "outputs": [],
   "source": [
    "# To start using the BASE API, a request for access (unblocking of IP-address or IP-address range) \n",
    "# must first be sent to https://www.base-search.net/about/en/contact.php. More information can be \n",
    "# found at https://www.base-search.net/about/en/about_develop.php#chap02\n",
    "# The API is described at https://www.base-search.net/about/download/base_interface.pdf\n",
    "\n",
    "import requests\n",
    "from lib.Publications import Publication\n",
    "import pickle\n",
    "import time"
   ]
  },
  {
   "cell_type": "markdown",
   "metadata": {},
   "source": [
    "# Query string"
   ]
  },
  {
   "cell_type": "code",
   "execution_count": 16,
   "metadata": {},
   "outputs": [],
   "source": [
    "# Multi keyword search\n",
    "#\n",
    "# \"eDNA+metabarcoding\"\n",
    "# \"algebra+AND+(linear+OR+numerical)\"\"\n",
    "# \"(operator +OR+ algorithms)+ AND+ (linear +OR+ numerical)\"\n",
    "# \"linear+algebra+NOT+numerical\"\n",
    "# More examples can be found at https://www.base-search.net/about/download/base_interface.pdf\n",
    "\n",
    "query = \"eDNA\""
   ]
  },
  {
   "cell_type": "markdown",
   "metadata": {},
   "source": [
    "# Search BASE"
   ]
  },
  {
   "cell_type": "code",
   "execution_count": 17,
   "metadata": {},
   "outputs": [],
   "source": [
    "def search_db(query, offset):\n",
    "    # https://www.base-search.net/about/download/base_interface.pdf\n",
    "    print(f\"https://api.base-search.net/cgi-bin/BaseHttpSearchInterface.fcgi?func=PerformSearch&query={query}&hits=100&offset={offset}&format=json\")\n",
    "    return requests.get(f\"https://api.base-search.net/cgi-bin/BaseHttpSearchInterface.fcgi?func=PerformSearch&query={query}&hits=100&offset={offset}&format=json\")"
   ]
  },
  {
   "cell_type": "code",
   "execution_count": 18,
   "metadata": {},
   "outputs": [
    {
     "name": "stdout",
     "output_type": "stream",
     "text": [
      "https://api.base-search.net/cgi-bin/BaseHttpSearchInterface.fcgi?func=PerformSearch&query=eDNA&hits=100&offset=0&format=json\n",
      "Records: 1\n",
      "https://api.base-search.net/cgi-bin/BaseHttpSearchInterface.fcgi?func=PerformSearch&query=eDNA&hits=100&offset=100&format=json\n",
      "Range: 100\n",
      "https://api.base-search.net/cgi-bin/BaseHttpSearchInterface.fcgi?func=PerformSearch&query=eDNA&hits=100&offset=200&format=json\n",
      "Range: 200\n"
     ]
    }
   ],
   "source": [
    "# The maximum number of records that can be retreived is 120.\n",
    "# This loop will download all records (up to record number \n",
    "# 999 + 120 = 1119) if this limit is exceded.\n",
    "\n",
    "# Make the first database search\n",
    "# Start at the first search result \n",
    "offset = 0\n",
    "results = []\n",
    "r = search_db(query, offset)\n",
    "results.append(r)\n",
    "\n",
    "# Print the number of records\n",
    "print(f\"Records: {len(results)}\")\n",
    "\n",
    "#for i in :\n",
    "# Make subsequent searches if the query returned more then 200 records\n",
    "#while A_NUMBER < A_NUMBER_I_WILL_FIGURE_OUT_LATER:\n",
    "\n",
    "while offset < 120:\n",
    "    offset += 100\n",
    "    r = search_db(query, offset)\n",
    "    results.append(r)\n",
    "    print(f\"Range: {offset}\")\n",
    "    # Rate limiting: One request per second (1 QPS).\n",
    "    time.sleep(1)\n",
    "\n",
    "\n",
    "\n",
    "\n",
    "\n"
   ]
  },
  {
   "cell_type": "code",
   "execution_count": 14,
   "metadata": {},
   "outputs": [
    {
     "name": "stdout",
     "output_type": "stream",
     "text": [
      "<Response [200]>\n",
      "<Response [200]>\n",
      "<Response [200]>\n"
     ]
    }
   ],
   "source": [
    "for i in results:\n",
    "    print(i)"
   ]
  },
  {
   "cell_type": "code",
   "execution_count": null,
   "metadata": {},
   "outputs": [],
   "source": []
  }
 ],
 "metadata": {
  "kernelspec": {
   "display_name": "Python 3",
   "language": "python",
   "name": "python3"
  },
  "language_info": {
   "codemirror_mode": {
    "name": "ipython",
    "version": 3
   },
   "file_extension": ".py",
   "mimetype": "text/x-python",
   "name": "python",
   "nbconvert_exporter": "python",
   "pygments_lexer": "ipython3",
   "version": "3.8.3"
  }
 },
 "nbformat": 4,
 "nbformat_minor": 4
}
