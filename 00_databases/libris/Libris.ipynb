{
 "cells": [
  {
   "cell_type": "markdown",
   "metadata": {},
   "source": [
    "# Xsearch - Libris/SwePub"
   ]
  },
  {
   "cell_type": "code",
   "execution_count": null,
   "metadata": {},
   "outputs": [],
   "source": [
    "import requests\n",
    "#! pip install requests"
   ]
  },
  {
   "cell_type": "markdown",
   "metadata": {},
   "source": [
    "# Query string"
   ]
  },
  {
   "cell_type": "code",
   "execution_count": null,
   "metadata": {},
   "outputs": [],
   "source": [
    "query = \"eDNA\"\n",
    "# Query Libris or SwePub\n",
    "db = \"swepub\" "
   ]
  },
  {
   "cell_type": "markdown",
   "metadata": {},
   "source": [
    "# Search Libris"
   ]
  },
  {
   "cell_type": "code",
   "execution_count": null,
   "metadata": {},
   "outputs": [],
   "source": [
    "def search_db(query, start=1):\n",
    "    # http://librishelp.libris.kb.se/help/xsearch_swe.jsp?open=tech\n",
    "    return requests.get(f'https://libris.kb.se/xsearch?query=%C3%A4mne:{query}&order=alphabetical&format=json&start={start}&n=200&format_level=full&database={db}')\n"
   ]
  },
  {
   "cell_type": "code",
   "execution_count": null,
   "metadata": {},
   "outputs": [],
   "source": [
    "# The maximum records to retreive when using Xsearch is 200.\n",
    "# This loop will download all records if this limit is exceded.\n",
    "\n",
    "# Make the first database search\n",
    "start = 1\n",
    "results = []\n",
    "r = search_db(query)\n",
    "results.append(r)\n",
    "\n",
    "# Number of records\n",
    "print(f\"Records: {list(r.json().items())[0][1]['records']}\")\n",
    "\n",
    "# Make subsequent searches if the query returned more then 200 records\n",
    "while int(list(r.json().items())[0][1]['to']) < int(list(r.json().items())[0][1]['records']):\n",
    "    start += 200\n",
    "    r = search_db(query, start)\n",
    "    results.append(r)\n",
    "    print(f\"Range: {str(list(r.json().items())[0][1]['from'])} - {str(list(r.json().items())[0][1]['to'])}\")"
   ]
  },
  {
   "cell_type": "markdown",
   "metadata": {},
   "source": [
    "# Explore the result"
   ]
  },
  {
   "cell_type": "code",
   "execution_count": null,
   "metadata": {},
   "outputs": [],
   "source": [
    "for x in list(results[0].json().items())[0][1]['list']:\n",
    "    print(x)\n",
    "    break\n",
    "\n",
    "    \n",
    "# Title\n",
    "print(x['title'])\n",
    "\n",
    "# Type of media\n",
    "print(x['type'])\n",
    "\n",
    "# Keywords\n",
    "\n",
    "# Abstract\n",
    "try:\n",
    "    print(x['description'])\n",
    "except:\n",
    "    pass\n",
    "\n",
    "# DOI\n",
    "\n",
    "# Identifier\n",
    "print(x['identifier'])\n",
    "\n",
    "# eid\n",
    "\n",
    "# pii\n",
    "\n",
    "# Journal\n",
    "\n",
    "# Date\n"
   ]
  },
  {
   "cell_type": "markdown",
   "metadata": {},
   "source": [
    "# Explore abstracts in html format"
   ]
  },
  {
   "cell_type": "code",
   "execution_count": null,
   "metadata": {},
   "outputs": [],
   "source": [
    "with open(\"original_abstracts_Libris.html\", \"w\") as file:\n",
    "    for result in results:\n",
    "        for media in list(result.json().items())[0][1]['list']:\n",
    "        \n",
    "            media_list = ['book', 'article', 'E-book', 'E-article']\n",
    "            # Only look at books and articles\n",
    "            if media['type'] in media_list:        \n",
    "        \n",
    "                title = \"<h1>\" + media[\"title\"] + \"</h1>\" + \"\\n\"\n",
    "        \n",
    "                identity = \"<p><a href=\" + \\\n",
    "                            media['identifier'] + \\\n",
    "                            \">\" + \\\n",
    "                            media['identifier'] + \\\n",
    "                            \"</a></p>\" + \\\n",
    "                            \"\\n\"\n",
    "                media_type = media[\"type\"]\n",
    "            \n",
    "                # First make sure there is a description for this item,\n",
    "                # then concatenate the list of descriptions if needed.\n",
    "                \n",
    "                try:\n",
    "                    media['description'] == True\n",
    "                    if type(media['description']) == list:\n",
    "                        description = \"\"\n",
    "                        for i in range(len(media['description'])):\n",
    "                            description += str(media['description'][i] + \"</p><p>\")\n",
    "                    elif type(media['description']) == str:\n",
    "                        description = media['description']\n",
    "            \n",
    "                    abstract = \"<p>\" + \\\n",
    "                                description + \\\n",
    "                                \"</p>\" + \\\n",
    "                                \"\\n\"\n",
    "                except:    \n",
    "                    abstract = \"<p>No Abstract</p>\"\n",
    "        \n",
    "                string = title + identity + media_type + abstract\n",
    "        \n",
    "                file.write(string)"
   ]
  }
 ],
 "metadata": {
  "kernelspec": {
   "display_name": "Python 3",
   "language": "python",
   "name": "python3"
  },
  "language_info": {
   "codemirror_mode": {
    "name": "ipython",
    "version": 3
   },
   "file_extension": ".py",
   "mimetype": "text/x-python",
   "name": "python",
   "nbconvert_exporter": "python",
   "pygments_lexer": "ipython3",
   "version": "3.8.3"
  }
 },
 "nbformat": 4,
 "nbformat_minor": 4
}
