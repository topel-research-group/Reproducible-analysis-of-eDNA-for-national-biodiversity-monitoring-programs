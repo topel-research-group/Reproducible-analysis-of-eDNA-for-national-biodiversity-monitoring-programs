{
 "cells": [
  {
   "cell_type": "code",
   "execution_count": null,
   "metadata": {},
   "outputs": [],
   "source": [
    "# Request an API key\n",
    "# https://www.worldcat.org/affiliate/tools?atype=wcapi\n",
    "\n",
    "# Use of this Service is subject to the existing agreements between the named Institution and OCLC. In addition, the following Terms & Conditions shall apply:\n",
    "\n",
    "# The requestor above acknowledges that he/she is an employee of the named Institution, and intends to use this service solely for that Institution's needs.\n",
    "# Bibliographic records and holdings information are only to be used for discovery purposes, and are subject to the current Guidelines for the Use and Transfer of OCLC-Derived Records, a current version of which may be found at http://www.oclc.org/us/en/support/documentation/worldcat/records/guidelines/default.htm.\n",
    "# The WorldCat Search API cannot be used to enhance any commercial service, including but not limited to fee-based services or services that obtain advertising revenue. Use of the WorldCat Search API in connection with the creation or support of the transmission of unsolicited, commercial email is expressly prohibited.\n",
    "# Discovery cannot be used as part of the cataloging process.\n",
    "# The appropriate level of service requirements will be maintained by the qualifying Institution. (Full information may be found at http://worldcat.org/devnet/index.php/SearchAPIServiceLevels.)\n",
    "# Any website using the WorldCat Search API agrees to display the \"This site uses WorldCat\" badge graphic (available at [URL for badge app page]) on the website and provide it as clickable access to WorldCat.org.\n",
    "# To the extent these terms and conditions conflict with the terms and conditions of the OCLC Affiliates Services Agreement, these terms and conditions shall prevail.\n",
    "# OCLC reserves the right to modify these Terms and Conditions, and/or the Service at any time.\n",
    "# OCLC further reserves the right to determine whether or not the Requestor and/or Institution are eligible to make use of WorldCat Search API and to refuse or discontinue access to the Service in OCLC's sole discretion."
   ]
  },
  {
   "cell_type": "code",
   "execution_count": null,
   "metadata": {},
   "outputs": [],
   "source": [
    "<a href=\"http://www.worldcat.org/\" target=\"_blank\"><img border=\"0\" src=\"http://www.worldcat.org/images/wc_badge_144x19.gif?ai=University_matstopel\" width=\"144\" height=\"19\" alt=\"WorldCat lets people access the collections of libraries worldwide [WorldCat.org]\" title=\"WorldCat lets people access the collections of libraries worldwide [WorldCat.org]\"></a>"
   ]
  }
 ],
 "metadata": {
  "kernelspec": {
   "display_name": "Python 3",
   "language": "python",
   "name": "python3"
  },
  "language_info": {
   "codemirror_mode": {
    "name": "ipython",
    "version": 3
   },
   "file_extension": ".py",
   "mimetype": "text/x-python",
   "name": "python",
   "nbconvert_exporter": "python",
   "pygments_lexer": "ipython3",
   "version": "3.8.3"
  }
 },
 "nbformat": 4,
 "nbformat_minor": 4
}
