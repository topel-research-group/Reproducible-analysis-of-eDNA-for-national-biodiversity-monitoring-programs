{
 "cells": [
  {
   "cell_type": "markdown",
   "metadata": {},
   "source": [
    "# Merge the results from the different databases"
   ]
  },
  {
   "cell_type": "code",
   "execution_count": 1,
   "metadata": {},
   "outputs": [],
   "source": [
    "from lib.Publications import Publication\n",
    "import pickle\n",
    "\n",
    "merged_publications = []\n",
    "total_pub = 0"
   ]
  },
  {
   "cell_type": "code",
   "execution_count": 2,
   "metadata": {},
   "outputs": [],
   "source": [
    "# Custom functions\n",
    "\n",
    "def merge(publications):\n",
    "    for pub in publications:\n",
    "        if pub not in merged_publications:\n",
    "            merged_publications.append(pub)"
   ]
  },
  {
   "cell_type": "code",
   "execution_count": 3,
   "metadata": {},
   "outputs": [
    {
     "name": "stdout",
     "output_type": "stream",
     "text": [
      "20 22 22\n",
      "429 417 44\n",
      "731 653 697\n",
      "736 33 730\n",
      "747 11 741\n",
      "864 257 998\n"
     ]
    }
   ],
   "source": [
    "# DIVA\n",
    "diva_file = open(\"diva.p\", \"rb\")\n",
    "diva_data = pickle.load(diva_file)\n",
    "diva_file.close()\n",
    "merge(diva_data)\n",
    "total_pub += len(diva_data)\n",
    "print(len(merged_publications), len(diva_data), total_pub)\n",
    "\n",
    "# PubMed\n",
    "pubmed_file = open(\"pubmed.p\", \"rb\")\n",
    "pubmed_data = pickle.load(pubmed_file)\n",
    "pubmed_file.close()\n",
    "merge(pubmed_data)\n",
    "total_pub += len(diva_data)\n",
    "print(len(merged_publications), len(pubmed_data), total_pub)\n",
    "\n",
    "#Scopus\n",
    "scopus_file = open(\"scopus.p\", \"rb\")\n",
    "scopus_data = pickle.load(scopus_file)\n",
    "scopus_file.close()\n",
    "merge(scopus_data)\n",
    "total_pub += len(scopus_data)\n",
    "print(len(merged_publications), len(scopus_data), total_pub)\n",
    "\n",
    "#Swepub\n",
    "swepub_file = open(\"swepub.p\", \"rb\")\n",
    "swepub_data = pickle.load(swepub_file)\n",
    "swepub_file.close()\n",
    "merge(swepub_data)\n",
    "total_pub += len(swepub_data)\n",
    "print(len(merged_publications), len(swepub_data), total_pub)\n",
    "\n",
    "# Libris\n",
    "libris_file = open(\"libris.p\", \"rb\")\n",
    "libris_data = pickle.load(libris_file)\n",
    "libris_file.close()\n",
    "merge(libris_data)\n",
    "total_pub += len(libris_data)\n",
    "print(len(merged_publications), len(libris_data), total_pub)\n",
    "\n",
    "#  BASE\n",
    "base_file = open(\"BASE.p\", \"rb\")\n",
    "base_data = pickle.load(base_file)\n",
    "base_file.close()\n",
    "merge(base_data)\n",
    "total_pub += len(base_data)\n",
    "print(len(merged_publications), len(base_data), total_pub)"
   ]
  },
  {
   "cell_type": "markdown",
   "metadata": {},
   "source": [
    "# Write data in html to file"
   ]
  },
  {
   "cell_type": "code",
   "execution_count": 4,
   "metadata": {},
   "outputs": [],
   "source": [
    "file = open(\"merged_results.html\", \"w\")\n",
    "\n",
    "for publication in merged_publications:\n",
    "    file.write(publication.to_html())\n",
    "\n",
    "file.close()"
   ]
  },
  {
   "cell_type": "code",
   "execution_count": null,
   "metadata": {},
   "outputs": [],
   "source": []
  }
 ],
 "metadata": {
  "kernelspec": {
   "display_name": "Python 3",
   "language": "python",
   "name": "python3"
  },
  "language_info": {
   "codemirror_mode": {
    "name": "ipython",
    "version": 3
   },
   "file_extension": ".py",
   "mimetype": "text/x-python",
   "name": "python",
   "nbconvert_exporter": "python",
   "pygments_lexer": "ipython3",
   "version": "3.8.3"
  }
 },
 "nbformat": 4,
 "nbformat_minor": 4
}
