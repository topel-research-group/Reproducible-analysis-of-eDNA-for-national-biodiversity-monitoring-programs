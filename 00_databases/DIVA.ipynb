{
 "cells": [
  {
   "cell_type": "markdown",
   "metadata": {},
   "source": [
    "# DIVA"
   ]
  },
  {
   "cell_type": "code",
   "execution_count": 1,
   "metadata": {},
   "outputs": [],
   "source": [
    "import requests\n",
    "import json\n",
    "import pickle\n",
    "from lib.Publications import Publication\n",
    "#! pip install requests\n",
    "\n",
    "# http://diva-portal.org/smash/api/project/swecris?query=funderOrgNumber:802400-4155\n",
    "# GET http://epc.ub.uu.se/diva/rest/record/theTypeYouWantToRead\n",
    "# https://wiki.epc.ub.uu.se/display/divainfo/Uppsala+2019-12-02--03?preview=%2F56099503%2F62685679%2FPresentation_DiVA_cora191202.pptx\n",
    "# https://github.com/lsu-ub-uu\n",
    "\n"
   ]
  },
  {
   "cell_type": "markdown",
   "metadata": {},
   "source": [
    "# Query string"
   ]
  },
  {
   "cell_type": "code",
   "execution_count": 2,
   "metadata": {},
   "outputs": [],
   "source": [
    "# Only use one search term, or update the URL at \n",
    "# http://www.diva-portal.org/smash/builder.jsf?searchType=FEED&dswid=6164 \n",
    "\n",
    "# The commented-out section below represents the full search string used elsewhere, but is too restrictive for this database\n",
    "#query = '(\"eDNA\" OR \"environmental DNA\" OR \"metabarcoding\" OR \"eRNA\" OR \"environmental RNA\") AND (\"biodiversity\" OR \"species richness\" OR \"monitoring\" OR \"biomonitoring\") AND (\"high throughput sequencing\" OR \"HTS\" OR \"throughput\")'\n",
    "#query = query.replace(' AND ',',')\n",
    "#query = query.replace('\"',r'\\\"').replace(\" \",\"+\")\n",
    "#query = query.replace('(','{\"freeText\":\"')\n",
    "#query = query.replace(')','\"}')\n",
    "\n",
    "query = \"eDNA\""
   ]
  },
  {
   "cell_type": "markdown",
   "metadata": {},
   "source": [
    "# Search DIVA"
   ]
  },
  {
   "cell_type": "code",
   "execution_count": 3,
   "metadata": {},
   "outputs": [
    {
     "name": "stdout",
     "output_type": "stream",
     "text": [
      "http://www.diva-portal.org/smash/export.jsf?format=csl_json&addFilename=true&aq=[[{\"freeText\":\"eDNA\"}]]&aqe=[]&aq2=[[{\"publicationTypeCode\":[\"bookReview\",\"dissertation\",\"review\",\"comprehensiveDoctoralThesis\",\"article\",\"monographDoctoralThesis\",\"comprehensiveLicentiateThesis\",\"book\",\"monographLicentiateThesis\",\"chapter\",\"manuscript\",\"collection\",\"conferencePaper\",\"conferenceProceedings\",\"report\",\"studentThesis\"]}]]&onlyFullText=false&noOfRows=9999&sortOrder=title_sort_asc&sortOrder2=title_sort_asc\n"
     ]
    }
   ],
   "source": [
    "# A URL was created using the Create Feed tool of the DIVA portal.\n",
    "# http://www.diva-portal.org/smash/builder.jsf?searchType=FEED&dswid=6164\n",
    "\n",
    "# Original URL\n",
    "# http://www.diva-portal.org/smash/export.jsf?format=csvall&addFilename=true&aq=[[{\"freeText\":\"eDNA\"}],[],[]]&aqe=[]&aq2=[[{\"publicationTypeCode\":[\"bookReview\",\"dissertation\",\"review\",\"comprehensiveDoctoralThesis\",\"article\",\"monographDoctoralThesis\",\"comprehensiveLicentiateThesis\",\"book\",\"monographLicentiateThesis\",\"chapter\",\"manuscript\",\"collection\",\"conferencePaper\",\"conferenceProceedings\",\"report\",\"studentThesis\"]}]]&onlyFullText=false&noOfRows=5000&sortOrder=title_sort_asc&sortOrder2=title_sort_asc\n",
    "# http://www.diva-portal.org/smash/export.jsf?format=csv&addFilename=true&aq=[[{\"freeText\":\"eDNA\"}]]&aqe=[]&aq2=[[{\"publicationTypeCode\":[\"bookReview\",\"dissertation\",\"review\",\"comprehensiveDoctoralThesis\",\"article\",\"monographDoctoralThesis\",\"comprehensiveLicentiateThesis\",\"book\",\"monographLicentiateThesis\",\"chapter\",\"manuscript\",\"collection\",\"conferencePaper\",\"conferenceProceedings\",\"report\",\"studentThesis\"]}]]&onlyFullText=false&noOfRows=9999&sortOrder=title_sort_asc&sortOrder2=title_sort_asc&csvType=publication&fl=PID,Abstract,ArticleId,DOI,FullTextLink,Journal,Keywords,PMID,ScopusId,Title\n",
    "# http://www.diva-portal.org/smash/export.jsf?format=csl_json&addFilename=true&aq=[[{\"freeText\":\"eDNA\"}]]&aqe=[]&aq2=[[{\"publicationTypeCode\":[\"bookReview\",\"dissertation\",\"review\",\"comprehensiveDoctoralThesis\",\"article\",\"monographDoctoralThesis\",\"comprehensiveLicentiateThesis\",\"book\",\"monographLicentiateThesis\",\"chapter\",\"manuscript\",\"collection\",\"conferencePaper\",\"conferenceProceedings\",\"report\",\"studentThesis\"]}]]&onlyFullText=false&noOfRows=9999&sortOrder=title_sort_asc&sortOrder2=title_sort_asc\n",
    "\n",
    "# The commented-out section below is required if the full search string in the previous codeblock is used\n",
    "#url1 = 'http://www.diva-portal.org/smash/export.jsf?format=csl_json&addFilename=true&aq=[['\n",
    "#url2 = ']]&aqe=[]&aq2=[[{\"publicationTypeCode\":[\"bookReview\",\"dissertation\",\"review\",\"comprehensiveDoctoralThesis\",\"article\",\"monographDoctoralThesis\",\"comprehensiveLicentiateThesis\",\"book\",\"monographLicentiateThesis\",\"chapter\",\"manuscript\",\"collection\",\"conferencePaper\",\"conferenceProceedings\",\"report\",\"studentThesis\"]}]]&onlyFullText=false&noOfRows=9999&sortOrder=title_sort_asc&sortOrder2=title_sort_asc'\n",
    "\n",
    "url1 = 'http://www.diva-portal.org/smash/export.jsf?format=csl_json&addFilename=true&aq=[[{\"freeText\":\"'\n",
    "url2 = '\"}]]&aqe=[]&aq2=[[{\"publicationTypeCode\":[\"bookReview\",\"dissertation\",\"review\",\"comprehensiveDoctoralThesis\",\"article\",\"monographDoctoralThesis\",\"comprehensiveLicentiateThesis\",\"book\",\"monographLicentiateThesis\",\"chapter\",\"manuscript\",\"collection\",\"conferencePaper\",\"conferenceProceedings\",\"report\",\"studentThesis\"]}]]&onlyFullText=false&noOfRows=9999&sortOrder=title_sort_asc&sortOrder2=title_sort_asc'\n",
    "\n",
    "print(url1 + query + url2)\n",
    "\n",
    "r = requests.get(url1 + query + url2)\n",
    "\n",
    "# The original data contains some \"\\n\" characters that \n",
    "# cause problems when parsing the result\n",
    "r = json.loads(r.text.replace(\"\\n\", \"\"))\n"
   ]
  },
  {
   "cell_type": "markdown",
   "metadata": {},
   "source": [
    "# Explore the resut"
   ]
  },
  {
   "cell_type": "code",
   "execution_count": 4,
   "metadata": {},
   "outputs": [
    {
     "name": "stdout",
     "output_type": "stream",
     "text": [
      "<class 'dict'>\n",
      "A novel whole blood gene expression signature for asthma, dermatitis, and rhinitis multimorbidity in children and adolescents\n",
      "article-journal\n",
      "Background: Allergic diseases often occur in combination (multimorbidity). Human blood transcriptome studies have not addressed multimorbidity. Large-scale gene expression data were combined to retrieve biomarkers and signaling pathways to disentangle allergic multimorbidity phenotypes.Methods: Integrated transcriptomic analysis was conducted in 1233 participants with a discovery phase using gene expression data (Human Transcriptome Array 2.0) from whole blood of 786 children from three European birth cohorts (MeDALL), and a replication phase using RNA Sequencing data from an independent cohort (EVA-PR, n = 447). Allergic diseases (asthma, atopic dermatitis, rhinitis) were considered as single disease or multimorbidity (at least two diseases), and compared with no disease.Results: Fifty genes were differentially expressed in allergic diseases. Thirty-two were not previously described in allergy. Eight genes were consistently overexpressed in all types of multimorbidity for asthma, dermatitis, and rhinitis (CLC, EMR4P, IL5RA, FRRS1, HRH4, SLC29A1, SIGLEC8, IL1RL1). All genes were replicated the in EVA-PR cohort. RT-qPCR validated the overexpression of selected genes. In MeDALL, 27 genes were differentially expressed in rhinitis alone, but none was significant for asthma or dermatitis alone. The multimorbidity signature was enriched in eosinophil-associated immune response and signal transduction. Protein-protein interaction network analysis identified IL5/JAK/STAT and IL33/ST2/IRAK/TRAF as key signaling pathways in multimorbid diseases. Synergistic effect of multimorbidity on gene expression levels was found.Conclusion: A signature of eight genes identifies multimorbidity for asthma, rhinitis, and dermatitis. Our results have clinical and mechanistic implications, and suggest that multimorbidity should be considered differently than allergic diseases occurring alone.\n",
      "10.1111/all.14314\n"
     ]
    }
   ],
   "source": [
    "# clear', 'copy', 'fromkeys', 'get', 'items', 'keys', 'pop', 'popitem', 'setdefault', 'update', 'values']\n",
    "for x in r:\n",
    "    print(type(x))\n",
    "    break\n",
    "    \n",
    "# dict_keys(['id', \n",
    "#            'type', \n",
    "#            'status', \n",
    "#            'issued', \n",
    "#            'title', \n",
    "#            'language', \n",
    "#            'author', \n",
    "#            'abstract', \n",
    "#            'DOI', \n",
    "#            'PMID', \n",
    "#            'NBN', \n",
    "#            'issue', \n",
    "#            'volume', \n",
    "#            'page', \n",
    "#            'container-title', \n",
    "#            'ISSN', \n",
    "#            'keyword', \n",
    "#            'publisher', \n",
    "#            'published', \n",
    "#            'created', \n",
    "#            'updated', \n",
    "#            'URL'])\n",
    "    \n",
    "# Title\n",
    "print(x['title'])\n",
    "\n",
    "# Type of media\n",
    "print(x['type'])\n",
    "\n",
    "# Keywords\n",
    "\n",
    "# Abstract\n",
    "try:\n",
    "    print(x['abstract'])\n",
    "except:\n",
    "    pass\n",
    "\n",
    "# DOI\n",
    "print(x['DOI'])\n",
    "\n",
    "# Identifier\n",
    "\n",
    "# eid\n",
    "\n",
    "# pii\n",
    "\n",
    "# Journal\n",
    "\n",
    "# Date"
   ]
  },
  {
   "cell_type": "code",
   "execution_count": 5,
   "metadata": {},
   "outputs": [
    {
     "name": "stdout",
     "output_type": "stream",
     "text": [
      "Number of records: 334\n"
     ]
    }
   ],
   "source": [
    "# Number of records found\n",
    "print(f\"Number of records: {len(r)}\")"
   ]
  },
  {
   "cell_type": "markdown",
   "metadata": {},
   "source": [
    "# Explore abstracts in html format"
   ]
  },
  {
   "cell_type": "code",
   "execution_count": 6,
   "metadata": {},
   "outputs": [],
   "source": [
    "publications = []\n",
    "\n",
    "with open(\"original_abstracts_DIVA.html\", \"w\") as file:\n",
    "    for media in r:\n",
    "        \n",
    "#        media_list = ['book', 'article', 'E-book', 'E-article']\n",
    "#        # Only look at books and articles\n",
    "#        if media['type'] in media_list:        \n",
    "        \n",
    "        title = \"<h1>\" + media[\"title\"] + \"</h1>\" + \"\\n\"\n",
    "            \n",
    "        try:\n",
    "            doi = \"<p><a href=\\\"https://doi.org/\" + \\\n",
    "                    media['DOI'] + \\\n",
    "                    \"\\\">\" + \\\n",
    "                    \"doi:\" + \\\n",
    "                    media['DOI'] + \\\n",
    "                    \"</a></p>\" + \\\n",
    "                    \"\\n\"\n",
    "        except KeyError:\n",
    "            doi = \"<p>No DOI</p>\"\n",
    "            \n",
    "        media_type = media[\"type\"]\n",
    "            \n",
    "        # First make sure there is a description for this item,\n",
    "        # then concatenate the list of descriptions if needed.\n",
    "                \n",
    "        try:\n",
    "            media['abstract'] == True\n",
    "            if type(media['abstract']) == list:\n",
    "                description = \"\"\n",
    "                for i in range(len(media['abstract'])):\n",
    "                    description += str(media['abstract'][i] + \"</p><p>\")\n",
    "            elif type(media['abstract']) == str:\n",
    "                description = media['abstract']\n",
    "            \n",
    "            abstract = \"<p>\" + \\\n",
    "                        description + \\\n",
    "                        \"</p>\" + \\\n",
    "                        \"\\n\"\n",
    "        except:    \n",
    "            abstract = \"<p>No Abstract</p>\"\n",
    "        \n",
    "        try:\n",
    "            publications.append(Publication(title = media[\"title\"], doi = media['DOI'], abstract = description))\n",
    "        except KeyError:\n",
    "            publications.append(Publication(title = media[\"title\"], abstract = description))\n",
    "        \n",
    "        string = title + doi + media_type + abstract\n",
    "        \n",
    "        file.write(string)"
   ]
  },
  {
   "cell_type": "markdown",
   "metadata": {},
   "source": [
    "# Save results to binary file"
   ]
  },
  {
   "cell_type": "code",
   "execution_count": 7,
   "metadata": {},
   "outputs": [],
   "source": [
    "# Save the result to a binary file, and analyse it together with data from other searches.\n",
    "pickle.dump(publications, open(\"diva_eDNA.p\" ,\"wb\"))"
   ]
  },
  {
   "cell_type": "code",
   "execution_count": null,
   "metadata": {},
   "outputs": [],
   "source": []
  }
 ],
 "metadata": {
  "kernelspec": {
   "display_name": "Python 3",
   "language": "python",
   "name": "python3"
  },
  "language_info": {
   "codemirror_mode": {
    "name": "ipython",
    "version": 3
   },
   "file_extension": ".py",
   "mimetype": "text/x-python",
   "name": "python",
   "nbconvert_exporter": "python",
   "pygments_lexer": "ipython3",
   "version": "3.8.3"
  }
 },
 "nbformat": 4,
 "nbformat_minor": 4
}
