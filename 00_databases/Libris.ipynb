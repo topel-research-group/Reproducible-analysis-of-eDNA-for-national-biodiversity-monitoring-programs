{
 "cells": [
  {
   "cell_type": "markdown",
   "metadata": {},
   "source": [
    "# Xsearch - Libris/SwePub"
   ]
  },
  {
   "cell_type": "code",
   "execution_count": 1,
   "metadata": {},
   "outputs": [],
   "source": [
    "import requests\n",
    "import pickle\n",
    "from lib.Publications import Publication"
   ]
  },
  {
   "cell_type": "markdown",
   "metadata": {},
   "source": [
    "# Query string"
   ]
  },
  {
   "cell_type": "code",
   "execution_count": 2,
   "metadata": {},
   "outputs": [],
   "source": [
    "query = \"eDNA\"\n",
    "# Query Libris or SwePub\n",
    "db = \"swepub\" "
   ]
  },
  {
   "cell_type": "markdown",
   "metadata": {},
   "source": [
    "# Search Libris"
   ]
  },
  {
   "cell_type": "code",
   "execution_count": 3,
   "metadata": {},
   "outputs": [],
   "source": [
    "def search_db(query, start=1):\n",
    "    # http://librishelp.libris.kb.se/help/xsearch_swe.jsp?open=tech\n",
    "    return requests.get(f'https://libris.kb.se/xsearch?query=%C3%A4mne:{query}&order=alphabetical&format=json&start={start}&n=200&format_level=full&database={db}')\n"
   ]
  },
  {
   "cell_type": "code",
   "execution_count": 4,
   "metadata": {},
   "outputs": [
    {
     "name": "stdout",
     "output_type": "stream",
     "text": [
      "Records: 12\n"
     ]
    }
   ],
   "source": [
    "# The maximum number of records to retreive when using Xsearch is 200.\n",
    "# This loop will download all records if this limit is exceded.\n",
    "\n",
    "# Make the first database search\n",
    "start = 1\n",
    "results = []\n",
    "r = search_db(query)\n",
    "results.append(r)\n",
    "\n",
    "# Number of records\n",
    "print(f\"Records: {list(r.json().items())[0][1]['records']}\")\n",
    "\n",
    "# Make subsequent searches if the query returned more then 200 records\n",
    "while int(list(r.json().items())[0][1]['to']) < int(list(r.json().items())[0][1]['records']):\n",
    "    start += 200\n",
    "    r = search_db(query, start)\n",
    "    results.append(r)\n",
    "    print(f\"Range: {str(list(r.json().items())[0][1]['from'])} - {str(list(r.json().items())[0][1]['to'])}\")"
   ]
  },
  {
   "cell_type": "markdown",
   "metadata": {},
   "source": [
    "# Explore the result"
   ]
  },
  {
   "cell_type": "code",
   "execution_count": 5,
   "metadata": {},
   "outputs": [
    {
     "name": "stdout",
     "output_type": "stream",
     "text": [
      "{'identifier': 'http://swepub.kb.se/bib/swepub:oai:gup.ub.gu.se/300954', 'title': 'Invasion and distribution of the redclaw crayfish, Cherax quadricarinatus, in Martinique', 'creator': ['Baudry, T.', 'Becking, T.', 'Gout, J. P.', 'Arque, A.', 'Gan, H. M.', 'Austin, C. M.', 'Delaunay, C.', 'Smith-Ravin, J.', 'Roques, Jonathan, 1985', 'Grandjean, F.', 'Göteborgs universitet Institutionen för biologi och miljövetenskap', 'Göteborgs universitet', 'Gothenburg University'], 'type': 'article', 'publisher': '', 'date': '2020', 'language': 'eng', 'description': 'The redclaw crayfish, Cherax quadricarinatus, was introduced to Martinique Island for aquaculture purposes in 2004, in an attempt to revitalize the freshwater crustacean aquaculture sector. In 2015, three wild populations were discovered during an electrofishing survey on fish diversity. In 2018, a specific crayfish survey was performed at night using spotlighting and baited traps at 34 sites throughout the island. The species was mostly found in the center and northern part of the island, specifically, a total of 105 specimens were captured in eight streams and five closed water bodies. We sequenced a 491 base-pair fragment of the COI gene to understand the invasion history and pathway from the presumed source population at the Mangatal hatchery. Among the eight haplotypes found, three were dominant, of which, two occurred in the Mangatal hatchery. As crayfish are sold alive, there is a high risk of further human-mediated introductions across the island hydrographic basins. Thus, the distribution of this species could rapidly expand throughout Martinique freshwater ecosystems, with ecological impacts on native communities yet to be determined and requiring urgent investigation.', 'subject': ['NATURVETENSKAP', 'NATURAL SCIENCES', 'Biodiversity hotspot', 'COI', 'freshwater', 'invasive species', 'parastacidae', 'wild detection', 'environmental DNA edna', 'von-martens', 'signal crayfish', 'parastacidae', 'decapoda', 'ecosystem', 'introductions', 'populations', 'biology', 'europe', 'Fisheries', 'Marine & Freshwater Biology'], 'relation': 'Knowledge and Management of Aquatic Ecosystems'}\n",
      "Invasion and distribution of the redclaw crayfish, Cherax quadricarinatus, in Martinique\n",
      "article\n",
      "The redclaw crayfish, Cherax quadricarinatus, was introduced to Martinique Island for aquaculture purposes in 2004, in an attempt to revitalize the freshwater crustacean aquaculture sector. In 2015, three wild populations were discovered during an electrofishing survey on fish diversity. In 2018, a specific crayfish survey was performed at night using spotlighting and baited traps at 34 sites throughout the island. The species was mostly found in the center and northern part of the island, specifically, a total of 105 specimens were captured in eight streams and five closed water bodies. We sequenced a 491 base-pair fragment of the COI gene to understand the invasion history and pathway from the presumed source population at the Mangatal hatchery. Among the eight haplotypes found, three were dominant, of which, two occurred in the Mangatal hatchery. As crayfish are sold alive, there is a high risk of further human-mediated introductions across the island hydrographic basins. Thus, the distribution of this species could rapidly expand throughout Martinique freshwater ecosystems, with ecological impacts on native communities yet to be determined and requiring urgent investigation.\n",
      "http://swepub.kb.se/bib/swepub:oai:gup.ub.gu.se/300954\n"
     ]
    }
   ],
   "source": [
    "for x in list(results[0].json().items())[0][1]['list']:\n",
    "    print(x)\n",
    "    break\n",
    "\n",
    "    \n",
    "# Title\n",
    "print(x['title'])\n",
    "\n",
    "# Type of media\n",
    "print(x['type'])\n",
    "\n",
    "# Keywords\n",
    "\n",
    "# Abstract\n",
    "try:\n",
    "    print(x['description'])\n",
    "except:\n",
    "    pass\n",
    "\n",
    "# DOI\n",
    "\n",
    "# Identifier\n",
    "print(x['identifier'])\n",
    "\n",
    "# eid\n",
    "\n",
    "# pii\n",
    "\n",
    "# Journal\n",
    "\n",
    "# Date\n"
   ]
  },
  {
   "cell_type": "markdown",
   "metadata": {},
   "source": [
    "# Explore abstracts in html format"
   ]
  },
  {
   "cell_type": "code",
   "execution_count": 6,
   "metadata": {},
   "outputs": [],
   "source": [
    "publications = []\n",
    "\n",
    "with open(\"original_abstracts_Libris.html\", \"w\") as file:\n",
    "    for result in results:\n",
    "        for media in list(result.json().items())[0][1]['list']:\n",
    "        \n",
    "            media_list = ['book', 'article', 'E-book', 'E-article']\n",
    "            # Only look at books and articles\n",
    "            if media['type'] in media_list:        \n",
    "        \n",
    "                title = \"<h1>\" + media[\"title\"] + \"</h1>\" + \"\\n\"\n",
    "        \n",
    "                identity = \"<p><a href=\" + \\\n",
    "                            media['identifier'] + \\\n",
    "                            \">\" + \\\n",
    "                            media['identifier'] + \\\n",
    "                            \"</a></p>\" + \\\n",
    "                            \"\\n\"\n",
    "                media_type = media[\"type\"]\n",
    "            \n",
    "                # First make sure there is a description for this item,\n",
    "                # then concatenate the list of descriptions if needed.\n",
    "                \n",
    "                try:\n",
    "                    media['description'] == True\n",
    "                    if type(media['description']) == list:\n",
    "                        description = \"\"\n",
    "                        for i in range(len(media['description'])):\n",
    "                            description += str(media['description'][i] + \"</p><p>\")\n",
    "                    elif type(media['description']) == str:\n",
    "                        description = media['description']\n",
    "            \n",
    "                    abstract = \"<p>\" + \\\n",
    "                                description + \\\n",
    "                                \"</p>\" + \\\n",
    "                                \"\\n\"\n",
    "                except:    \n",
    "                    abstract = \"<p>No Abstract</p>\"\n",
    "        \n",
    "                string = title + identity + media_type + abstract\n",
    "            \n",
    "                publications.append(Publication(title = media[\"title\"], identifyer = media['identifier'], abstract = description))\n",
    "        \n",
    "                file.write(string)"
   ]
  },
  {
   "cell_type": "code",
   "execution_count": 7,
   "metadata": {},
   "outputs": [],
   "source": [
    "# Alternative method of writing the result in html format\n",
    "# after data has been stores as Publication objects.\n",
    "with open(\"test.html\", \"w\") as file:\n",
    "    for i in publications:\n",
    "        file.write(i.to_html())"
   ]
  },
  {
   "cell_type": "markdown",
   "metadata": {},
   "source": [
    "# Save result to binary file"
   ]
  },
  {
   "cell_type": "code",
   "execution_count": 8,
   "metadata": {},
   "outputs": [],
   "source": [
    "# Save the result to a binary file, and analyse it together with data from other searches.\n",
    "pickle.dump(publications, open(\"swepub_eDNA.p\" ,\"wb\"))"
   ]
  },
  {
   "cell_type": "code",
   "execution_count": null,
   "metadata": {},
   "outputs": [],
   "source": []
  },
  {
   "cell_type": "code",
   "execution_count": null,
   "metadata": {},
   "outputs": [],
   "source": []
  }
 ],
 "metadata": {
  "kernelspec": {
   "display_name": "Python 3",
   "language": "python",
   "name": "python3"
  },
  "language_info": {
   "codemirror_mode": {
    "name": "ipython",
    "version": 3
   },
   "file_extension": ".py",
   "mimetype": "text/x-python",
   "name": "python",
   "nbconvert_exporter": "python",
   "pygments_lexer": "ipython3",
   "version": "3.8.3"
  }
 },
 "nbformat": 4,
 "nbformat_minor": 4
}
