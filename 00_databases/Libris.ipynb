{
 "cells": [
  {
   "cell_type": "markdown",
   "metadata": {},
   "source": [
    "# Xsearch - Libris/SwePub"
   ]
  },
  {
   "cell_type": "code",
   "execution_count": 1,
   "metadata": {},
   "outputs": [],
   "source": [
    "import requests\n",
    "from lib.Publications import Publication"
   ]
  },
  {
   "cell_type": "markdown",
   "metadata": {},
   "source": [
    "# Query string"
   ]
  },
  {
   "cell_type": "code",
   "execution_count": 2,
   "metadata": {},
   "outputs": [],
   "source": [
    "query = \"eDNA\"\n",
    "# Query Libris or SwePub\n",
    "db = \"swepub\" "
   ]
  },
  {
   "cell_type": "markdown",
   "metadata": {},
   "source": [
    "# Search Libris"
   ]
  },
  {
   "cell_type": "code",
   "execution_count": 3,
   "metadata": {},
   "outputs": [],
   "source": [
    "def search_db(query, start=1):\n",
    "    # http://librishelp.libris.kb.se/help/xsearch_swe.jsp?open=tech\n",
    "    return requests.get(f'https://libris.kb.se/xsearch?query=%C3%A4mne:{query}&order=alphabetical&format=json&start={start}&n=200&format_level=full&database={db}')\n"
   ]
  },
  {
   "cell_type": "code",
   "execution_count": 4,
   "metadata": {},
   "outputs": [
    {
     "name": "stdout",
     "output_type": "stream",
     "text": [
      "Records: 12\n"
     ]
    }
   ],
   "source": [
    "# The maximum records to retreive when using Xsearch is 200.\n",
    "# This loop will download all records if this limit is exceded.\n",
    "\n",
    "# Make the first database search\n",
    "start = 1\n",
    "results = []\n",
    "r = search_db(query)\n",
    "results.append(r)\n",
    "\n",
    "# Number of records\n",
    "print(f\"Records: {list(r.json().items())[0][1]['records']}\")\n",
    "\n",
    "# Make subsequent searches if the query returned more then 200 records\n",
    "while int(list(r.json().items())[0][1]['to']) < int(list(r.json().items())[0][1]['records']):\n",
    "    start += 200\n",
    "    r = search_db(query, start)\n",
    "    results.append(r)\n",
    "    print(f\"Range: {str(list(r.json().items())[0][1]['from'])} - {str(list(r.json().items())[0][1]['to'])}\")"
   ]
  },
  {
   "cell_type": "markdown",
   "metadata": {},
   "source": [
    "# Explore the result"
   ]
  },
  {
   "cell_type": "code",
   "execution_count": 5,
   "metadata": {},
   "outputs": [
    {
     "name": "stdout",
     "output_type": "stream",
     "text": [
      "{'identifier': 'http://swepub.kb.se/bib/swepub:oai:gup.ub.gu.se/300954', 'title': 'Invasion and distribution of the redclaw crayfish, Cherax quadricarinatus, in Martinique', 'creator': ['Baudry, T.', 'Becking, T.', 'Gout, J. P.', 'Arque, A.', 'Gan, H. M.', 'Austin, C. M.', 'Delaunay, C.', 'Smith-Ravin, J.', 'Roques, Jonathan, 1985', 'Grandjean, F.', 'Göteborgs universitet Institutionen för biologi och miljövetenskap', 'Göteborgs universitet', 'Gothenburg University'], 'type': 'article', 'publisher': '', 'date': '2020', 'language': 'eng', 'description': 'The redclaw crayfish, Cherax quadricarinatus, was introduced to Martinique Island for aquaculture purposes in 2004, in an attempt to revitalize the freshwater crustacean aquaculture sector. In 2015, three wild populations were discovered during an electrofishing survey on fish diversity. In 2018, a specific crayfish survey was performed at night using spotlighting and baited traps at 34 sites throughout the island. The species was mostly found in the center and northern part of the island, specifically, a total of 105 specimens were captured in eight streams and five closed water bodies. We sequenced a 491 base-pair fragment of the COI gene to understand the invasion history and pathway from the presumed source population at the Mangatal hatchery. Among the eight haplotypes found, three were dominant, of which, two occurred in the Mangatal hatchery. As crayfish are sold alive, there is a high risk of further human-mediated introductions across the island hydrographic basins. Thus, the distribution of this species could rapidly expand throughout Martinique freshwater ecosystems, with ecological impacts on native communities yet to be determined and requiring urgent investigation.', 'subject': ['NATURVETENSKAP', 'NATURAL SCIENCES', 'Biodiversity hotspot', 'COI', 'freshwater', 'invasive species', 'parastacidae', 'wild detection', 'environmental DNA edna', 'von-martens', 'signal crayfish', 'parastacidae', 'decapoda', 'ecosystem', 'introductions', 'populations', 'biology', 'europe', 'Fisheries', 'Marine & Freshwater Biology'], 'relation': 'Knowledge and Management of Aquatic Ecosystems'}\n",
      "Invasion and distribution of the redclaw crayfish, Cherax quadricarinatus, in Martinique\n",
      "article\n",
      "The redclaw crayfish, Cherax quadricarinatus, was introduced to Martinique Island for aquaculture purposes in 2004, in an attempt to revitalize the freshwater crustacean aquaculture sector. In 2015, three wild populations were discovered during an electrofishing survey on fish diversity. In 2018, a specific crayfish survey was performed at night using spotlighting and baited traps at 34 sites throughout the island. The species was mostly found in the center and northern part of the island, specifically, a total of 105 specimens were captured in eight streams and five closed water bodies. We sequenced a 491 base-pair fragment of the COI gene to understand the invasion history and pathway from the presumed source population at the Mangatal hatchery. Among the eight haplotypes found, three were dominant, of which, two occurred in the Mangatal hatchery. As crayfish are sold alive, there is a high risk of further human-mediated introductions across the island hydrographic basins. Thus, the distribution of this species could rapidly expand throughout Martinique freshwater ecosystems, with ecological impacts on native communities yet to be determined and requiring urgent investigation.\n",
      "http://swepub.kb.se/bib/swepub:oai:gup.ub.gu.se/300954\n"
     ]
    }
   ],
   "source": [
    "for x in list(results[0].json().items())[0][1]['list']:\n",
    "    print(x)\n",
    "    break\n",
    "\n",
    "    \n",
    "# Title\n",
    "print(x['title'])\n",
    "\n",
    "# Type of media\n",
    "print(x['type'])\n",
    "\n",
    "# Keywords\n",
    "\n",
    "# Abstract\n",
    "try:\n",
    "    print(x['description'])\n",
    "except:\n",
    "    pass\n",
    "\n",
    "# DOI\n",
    "\n",
    "# Identifier\n",
    "print(x['identifier'])\n",
    "\n",
    "# eid\n",
    "\n",
    "# pii\n",
    "\n",
    "# Journal\n",
    "\n",
    "# Date\n"
   ]
  },
  {
   "cell_type": "markdown",
   "metadata": {},
   "source": [
    "# Explore abstracts in html format"
   ]
  },
  {
   "cell_type": "code",
   "execution_count": 6,
   "metadata": {},
   "outputs": [],
   "source": [
    "publications = []\n",
    "\n",
    "with open(\"original_abstracts_Libris.html\", \"w\") as file:\n",
    "    for result in results:\n",
    "        for media in list(result.json().items())[0][1]['list']:\n",
    "        \n",
    "            media_list = ['book', 'article', 'E-book', 'E-article']\n",
    "            # Only look at books and articles\n",
    "            if media['type'] in media_list:        \n",
    "        \n",
    "                title = \"<h1>\" + media[\"title\"] + \"</h1>\" + \"\\n\"\n",
    "        \n",
    "                identity = \"<p><a href=\" + \\\n",
    "                            media['identifier'] + \\\n",
    "                            \">\" + \\\n",
    "                            media['identifier'] + \\\n",
    "                            \"</a></p>\" + \\\n",
    "                            \"\\n\"\n",
    "                media_type = media[\"type\"]\n",
    "            \n",
    "                # First make sure there is a description for this item,\n",
    "                # then concatenate the list of descriptions if needed.\n",
    "                \n",
    "                try:\n",
    "                    media['description'] == True\n",
    "                    if type(media['description']) == list:\n",
    "                        description = \"\"\n",
    "                        for i in range(len(media['description'])):\n",
    "                            description += str(media['description'][i] + \"</p><p>\")\n",
    "                    elif type(media['description']) == str:\n",
    "                        description = media['description']\n",
    "            \n",
    "                    abstract = \"<p>\" + \\\n",
    "                                description + \\\n",
    "                                \"</p>\" + \\\n",
    "                                \"\\n\"\n",
    "                except:    \n",
    "                    abstract = \"<p>No Abstract</p>\"\n",
    "        \n",
    "                string = title + identity + media_type + abstract\n",
    "            \n",
    "                publications.append(Publication(title = media[\"title\"], identifyer = media['identifier'], abstract = description))\n",
    "        \n",
    "                file.write(string)"
   ]
  },
  {
   "cell_type": "code",
   "execution_count": 7,
   "metadata": {},
   "outputs": [],
   "source": [
    "with open(\"test.html\", \"w\") as file:\n",
    "    for i in publications:\n",
    "        file.write(i.to_html())"
   ]
  },
  {
   "cell_type": "code",
   "execution_count": 8,
   "metadata": {},
   "outputs": [
    {
     "name": "stdout",
     "output_type": "stream",
     "text": [
      "Invasion and distribution of the redclaw crayfish, Cherax quadricarinatus, in Martinique\n",
      "No DOI\n",
      "http://swepub.kb.se/bib/swepub:oai:gup.ub.gu.se/300954\n",
      "The redclaw crayfish, Cherax quadricarinatus, was introduced to Martinique Island for aquaculture purposes in 2004, in an attempt to revitalize the freshwater crustacean aquaculture sector. In 2015, three wild populations were discovered during an electrofishing survey on fish diversity. In 2018, a specific crayfish survey was performed at night using spotlighting and baited traps at 34 sites throughout the island. The species was mostly found in the center and northern part of the island, specifically, a total of 105 specimens were captured in eight streams and five closed water bodies. We sequenced a 491 base-pair fragment of the COI gene to understand the invasion history and pathway from the presumed source population at the Mangatal hatchery. Among the eight haplotypes found, three were dominant, of which, two occurred in the Mangatal hatchery. As crayfish are sold alive, there is a high risk of further human-mediated introductions across the island hydrographic basins. Thus, the distribution of this species could rapidly expand throughout Martinique freshwater ecosystems, with ecological impacts on native communities yet to be determined and requiring urgent investigation.\n",
      "To what extent is the DNA of microbial eukaryotes modified during burying into lake sediments? : A repeat-coring approach on annually laminated sediments\n",
      "No DOI\n",
      "http://swepub.kb.se/bib/swepub:oai:DiVA.org:umu-142229\n",
      "Paleogenetics provides a powerful framework to reconstruct the long-term temporal dynamics of various biological groups from aquatic sediments. However, validations are still required to ensure the authenticity of the molecular signal obtained from sedimentary DNA. Here, we investigated the effects of early diagenesis on the DNA signal from micro-eukaryotes preserved in sediments by comparing metabarcoding inventories obtained for two sediment cores sampled in 2007 and 2013 respectively. High-throughput sequencing (Illumina MiSeq) of sedimentary DNA was utilized to reconstruct the composition of microbial eukaryotic communities by targeting the V7 region of the 18S rDNA gene. No significant difference was detected between the molecular inventories obtained for the two cores both for total richness and diversity indices. Moreover, community structures obtained for the two cores were congruent as revealed by procrustean analysis. Though most of the eukaryotic groups showed no significant difference in terms of richness and relative proportion according to the core, the group of fungi was found to differ both in terms of richness and relative proportion (possibly due to their spatial heterogeneity and potential activity in sediments). Considering the OTUs level (i.e. Operational Taxonomic Units as a proxy of ecological species), our results showed that, for the older analyzed strata (age: 15-40 years), the composition and structure of communities were very similar for the two cores (except for fungi) and the DNA signal was considered stable. However, for the uppermost strata (age < 15 years), changes of moderate magnitude were detected in the relative abundance of few OTUs. Overall, this study points out that, in Nylandssjon sediments, early diagenesis did not induce marked modifications in the micro-eukaryotic DNA signal, thus opening new perspectives based on the analysis of eukaryotic sedimentary DNA to address scientific issues both in the domains of paleolimnology and microbial ecology. Because this study site is ideal for DNA preservation in sediment (quick sedimentation processes, no sediment resuspension, anoxic conditions at sediment-water interface), the generalization of our conclusions, in particular for less favorable sites, must be considered cautiously.\n",
      "Distinct Oceanic Microbiomes From Viruses to Protists Located Near the Antarctic Circumpolar Current\n",
      "No DOI\n",
      "http://swepub.kb.se/bib/swepub:oai:DiVA.org:uu-361693\n",
      "Microbes occupy diverse ecological niches and only through recent advances in next generation sequencing technologies have the true microbial diversity been revealed. Furthermore, lack of perceivable marine barriers to genetic dispersal (i.e., mountains or islands) has allowed the speculation that organisms that can be easily transported by currents and therefore proliferate everywhere. That said, ocean currents are now commonly being recognized as barriers for microbial dispersal. Here we analyzed samples collected from a total of six stations, four located in the Indian Ocean, and two in the Southern Ocean. Amplicon sequencing was used to characterize both prokaryotic and eukaryotic plankton communities, while shotgun sequencing was used for the combined environmental DNA (eDNA), microbial eDNA (meDNA), and viral fractions. We found that Cyanobacteria dominated the prokaryotic component in the South-West Indian Ocean, while gamma-Proteobacteria dominated the South-East Indian Ocean. A combination of gamma- and alpha-Proteobacteria dominated the Southern Ocean. Alveolates dominated almost exclusively the eukaryotic component, with variation in the ratio of Protoalveolata and Dinoflagellata depending on station. However, an increase in haptophyte relative abundance was observed in the Southern Ocean. Similarly, the viral fraction was dominated by members of the order Caudovirales across all stations; however, a higher presence of nucleocytoplasmic large DNA viruses (mainly chloroviruses and mimiviruses) was observed in the Southern Ocean. To our knowledge, this is the first that a statistical difference in the microbiome (from viruses to protists) between the subtropical Indian and Southern Oceans. We also show that not all phylotypes can be found everywhere, and that meDNA is not a suitable resource for monitoring aquatic microbial diversity.\n",
      "Airborne microbial biodiversity and seasonality in Northern and Southern Sweden\n",
      "No DOI\n",
      "http://swepub.kb.se/bib/swepub:oai:DiVA.org:umu-168962\n",
      "Microorganisms are essential constituents of ecosystems. To improve our understanding of how various factors shape microbial diversity and composition in nature it is important to study how microorganisms vary in space and time. Factors shaping microbial communities in ground level air have been surveyed in a limited number of studies, indicating that geographic location, season and local climate influence the microbial communities. However, few have surveyed more than one location, at high latitude or continuously over more than a year. We surveyed the airborne microbial communities over two full consecutive years in Kiruna, in the Arctic boreal zone, and Ljungbyhed, in the Southern nemoral zone of Sweden, by using a unique collection of archived air filters. We mapped both geographic and seasonal differences in bacterial and fungal communities and evaluated environmental factors that may contribute to these differences and found that location, season and weather influence the airborne communities. Location had stronger influence on the bacterial community composition compared to season, while location and season had equal influence on the fungal community composition. However, the airborne bacterial and fungal diversity showed overall the same trend over the seasons, regardless of location, with a peak during the warmer parts of the year, except for the fungal seasonal trend in Ljungbyhed, which fluctuated more within season. Interestingly, the diversity and evenness of the airborne communities were generally lower in Ljungbyhed. In addition, both bacterial and fungal communities varied significantly within and between locations, where orders like Rhizobiales, Rhodospirillales and Agaricales dominated in Kiruna, whereas Bacillales, Clostridiales and Sordariales dominated in Ljungbyhed. These differences are a likely reflection of the landscape surrounding the sampling sites where the landscape in Ljungbyhed is more homogenous and predominantly characterized by artificial and agricultural surroundings. Our results further indicate that local landscape, as well as seasonal variation, shapes microbial communities in air.\n",
      "Mixed-habitat assimilation of organic waste in coastal environments - It's all about synergy!\n",
      "No DOI\n",
      "http://swepub.kb.se/bib/swepub:oai:gup.ub.gu.se/289147\n",
      "Fish farms are increasingly situated in strong current sites above or near to mixed-bottom habitats that include organisms not normally considered in the context of organic enrichment. This study takes a holistic view of the benthic enrichment process by combining different survey techniques on complimentary spatial scales: conventional macrofaunal cores, larger-scale visual quantification of epibiota and environmental-DNA metabarcoding of microbial communities. A large tube forming polychaete (Arenicola marina), normally found intertidally and living too deep for conventional sampling, was observed occupying an opportunistic niche in areas of high deposition and in very close association with Capitellid worm complexes. The surface-dwelling brittlestar, Ophiocomina nigra, was abundant at distances of 250-1000 m from Farm-B, suggesting a positive response to enrichment, but was displaced where sedimentation exceed 5 g m(2) d(-1). A corresponding gradient was evident within the sediment microbial communities, supporting established theories about ecosystem engineering and multispecies synergies for organic waste assimilation. Many of the bacteria present in the near-farm sediments were linked to the farmed fish and fish health issues suggesting one or two-way inoculation pressures. These functionally different benthic organisms are intrinsically linked and the resulting synergy has the potential to assimilate significant quantities of anthropogenically produced organic waste contributing to environmental sustainability. (C) 2019 The Authors. Published by Elsevier B.V.\n",
      "Hellström och kretsen kring John Reed\n",
      "No DOI\n",
      "http://swepub.kb.se/bib/swepub:oai:DiVA.org:hkr-6967\n",
      "Fish farms are increasingly situated in strong current sites above or near to mixed-bottom habitats that include organisms not normally considered in the context of organic enrichment. This study takes a holistic view of the benthic enrichment process by combining different survey techniques on complimentary spatial scales: conventional macrofaunal cores, larger-scale visual quantification of epibiota and environmental-DNA metabarcoding of microbial communities. A large tube forming polychaete (Arenicola marina), normally found intertidally and living too deep for conventional sampling, was observed occupying an opportunistic niche in areas of high deposition and in very close association with Capitellid worm complexes. The surface-dwelling brittlestar, Ophiocomina nigra, was abundant at distances of 250-1000 m from Farm-B, suggesting a positive response to enrichment, but was displaced where sedimentation exceed 5 g m(2) d(-1). A corresponding gradient was evident within the sediment microbial communities, supporting established theories about ecosystem engineering and multispecies synergies for organic waste assimilation. Many of the bacteria present in the near-farm sediments were linked to the farmed fish and fish health issues suggesting one or two-way inoculation pressures. These functionally different benthic organisms are intrinsically linked and the resulting synergy has the potential to assimilate significant quantities of anthropogenically produced organic waste contributing to environmental sustainability. (C) 2019 The Authors. Published by Elsevier B.V.\n",
      "Ancient plant DNA in lake sediments\n",
      "No DOI\n",
      "http://swepub.kb.se/bib/swepub:oai:DiVA.org:uu-332900\n",
      "Recent advances in sequencing technologies now permit the analyses of plant DNA from fossil samples (ancient plant DNA, plant aDNA), and thus enable the molecular reconstruction of palaeofloras. Hitherto, ancient frozen soils have proved excellent in preserving DNA molecules, and have thus been the most commonly used source of plant aDNA. However, DNA from soil mainly represents taxa growing a few metres from the sampling point. Lakes have larger catchment areas and recent studies have suggested that plant a DNA from lake sediments is a more powerful tool for palaeofloristic reconstruction. Furthermore, lakes can be found globally in nearly all environments, and are therefore not limited to perennially frozen areas. Here, we review the latest approaches and methods for the study of plant aDNA from lake sediments and discuss the progress made up to the present. We argue that a DNA analyses add new and additional perspectives for the study of ancient plant populations and, in time, will provide higher taxonomic resolution and more precise estimation of abundance. Despite this, key questions and challenges remain for such plant aDNA studies. Finally, we provide guidelines on technical issues, including lake selection, and we suggest directions for future research on plant aDNA studies in lake sediments.\n",
      "Trade-offs between reducing complex terminology and producing accurate interpretations from environmental DNA : Comment on “Environmental DNA: What's behind the term?” by Pawlowski et al., (2020)\n",
      "No DOI\n",
      "http://swepub.kb.se/bib/swepub:oai:lup.lub.lu.se:c70448dc-7f8a-44a5-9a2a-9d1f777c1d9d\n",
      "In a recent paper, “Environmental DNA: What's behind the term? Clarifying the terminology and recommendations for its future use in biomonitoring,” Pawlowski et al. argue that the term eDNA should be used to refer to the pool of DNA isolated from environmental samples, as opposed to only extra-organismal DNA from macro-organisms. We agree with this view. However, we are concerned that their proposed two-level terminology specifying sampling environment and targeted taxa is overly simplistic and might hinder rather than improve clear communication about environmental DNA and its use in biomonitoring. This terminology is based on categories that are often difficult to assign and uninformative, and it overlooks a fundamental distinction within eDNA: the type of DNA (organismal or extra-organismal) from which ecological interpretations are derived.\n",
      "Deletion of D-Lactate Dehydrogenase A in Neisseria meningitidis Promotes Biofilm Formation Through Increased Autolysis and Extracellular DNA Release\n",
      "No DOI\n",
      "http://swepub.kb.se/bib/swepub:oai:DiVA.org:su-167499\n",
      "Neisseria meningitidis is a Gram-negative bacterium that asymptomatically colonizes the human nasopharyngeal mucosa. Pilus-mediated initial adherence of N. meningitidis to the epithelial mucosa is followed by the formation of three-dimensional aggregates, called microcolonies. Dispersal from microcolonies contributes to the transmission of N. meningitidis across the epithelial mucosa. We have recently discovered that environmental concentrations of host cell-derived lactate influences N. meningitidis microcolony dispersal. Here, we examined the ability of N. meningitidis mutants deficient in lactate metabolism to form biofilms. A lactate dehydrogenease A (idhA) mutant had an increased level of biofilm formation. Deletion of IdhA increased the N. meningitidis cell surface hydrophobicity and aggregation. In this study, we used FAM20, which belongs to clonal complex ST-11 that forms biofilms independently of extracellular DNA (eDNA). However, treatment with DNase I abolished the increased biofilm formation and aggregation of the ldhA-delicient mutant, suggesting a critical role for eDNA. Compared to wild-type, the IdhA-deficient mutant exhibited an increased autolytic rate, with significant increases in the eDNA concentrations in the culture supernatants and in biofilms. Within the IdhA mutant biofilm, the transcription levels of the capsule, pilus, and bacterial lysis genes were downregulated, while norB, which is associated with anaerobic respiration, was upregulated. These findings suggest that the absence of IdhA in N. meningitidis promotes biofilm formation and aggregation through autolysis-mediated DNA release.\n",
      "Comparison of capture and storage methods for aqueous macrobial eDNA using an optimized extraction protocol : advantage of enclosed filter\n",
      "No DOI\n",
      "http://swepub.kb.se/bib/swepub:oai:DiVA.org:su-144713\n",
      "Aqueous environmental DNA (eDNA) is an emerging efficient non-invasive tool for species inventory studies. To maximize performance of downstream quantitative PCR (qPCR) and next-generation sequencing (NGS) applications, quality and quantity of the starting material is crucial, calling for optimized capture, storage and extraction techniques of eDNA. Previous comparative studies for eDNA capture/storage have tested precipitation and open' filters. However, practical enclosed' filters which reduce unnecessary handling have not been included. Here, we fill this gap by comparing a filter capsule (Sterivex-GP polyethersulfone, pore size 022m, hereafter called SX) with commonly used methods. Our experimental set-up, covering altogether 41 treatments combining capture by precipitation or filtration with different preservation techniques and storage times, sampled one single lake (and a fish-free control pond). We selected documented capture methods that have successfully targeted a wide range of fauna. The eDNA was extracted using an optimized protocol modified from the DNeasy((R)) Blood & Tissue kit (Qiagen). We measured total eDNA concentrations and Cq-values (cycles used for DNA quantification by qPCR) to target specific mtDNA cytochrome b (cyt b) sequences in two local keystone fish species. SX yielded higher amounts of total eDNA along with lower Cq-values than polycarbonate track-etched filters (PCTE), glass fibre filters (GF) or ethanol precipitation (EP). SX also generated lower Cq-values than cellulose nitrate filters (CN) for one of the target species. DNA integrity of SX samples did not decrease significantly after 2weeks of storage in contrast to GF and PCTE. Adding preservative before storage improved SX results. In conclusion, we recommend SX filters (originally designed for filtering micro-organisms) as an efficient capture method for sampling macrobial eDNA. Ethanol or Longmire's buffer preservation of SX immediately after filtration is recommended. Preserved SX capsules may be stored at room temperature for at least 2weeks without significant degradation. Reduced handling and less exposure to outside stress compared with other filters may contribute to better eDNA results. SX capsules are easily transported and enable eDNA sampling in remote and harsh field conditions as samples can be filtered/preserved on site.\n",
      "Towards inclusion of Biodiversity in Life Cycle Assessment\n",
      "No DOI\n",
      "http://swepub.kb.se/bib/swepub:oai:research.chalmers.se:9c32bd2b-d9b4-48a8-b26b-b289d08dde96\n",
      "Biodiversity- crucial for ecosystem health and its products and services – is being lost at an alarming rate. While it is clear that human consumption is the main driving force of the considerable losses, conversion of natural habitats for production is continuing and the subsequent intensification of those systems is likely to cause even further biodiversity decay. Insights in consumption-based biodiversity loss, or biodiversity footprints, offer starting points for policy to reduce global biodiversity loss. To assess environmental performances of production systems, Life Cycle Assessment (LCA) can be applied. This is an internationally recognised methodology to map the environmental impact of a product, chain or activity from the beginning to the end of the life cycle. While certain impacts, such as those of climate change, are readily incorporated into standardised LCAs, methodologies for impacts on biodiversity are still being developed.  This thesis aims at contributing to improved methodology for assessing the impacts of land use and land use change on terrestrial biodiversity in LCA. Particular attention is given to what is needed to enable more societally and ecologically relevant assessments of impacts on biodiversity and how biodiversity indicators can be developed that quantify impacts on biodiversity accordingly. The results show that in current life cycle impact assessment (LCIA) models, the use of so-called baseline references dominates, implicitly striving for ‘naturalness’ and how this contrasts the aim of biodiversity conservation frameworks. Furthermore, it is discussed how inclusion of genetic attributes could increase the relevance of current assessments and it is tested how LCIA modelers could make use of genetic data generated by metabarcoding approaches of environmental DNA.  Recommendations given include the development of reference situations in LCIA models based on biodiversity targets aligned with society’s conservation frameworks. This means that impact on biodiversity will be defined as a distance to a target measure, rather than impact on the ‘natural’. In addition, next steps are identified that are needed to include genetic biodiversity metrics in LCIA models.\n",
      "DNA Blocks the Lethal Effect of Human Beta-Defensin 2 Against Neisseria meningitidis\n",
      "No DOI\n",
      "http://swepub.kb.se/bib/swepub:oai:DiVA.org:su-196515\n",
      "Neisseria meningitidis is a gram-negative bacterium that often asymptomatically colonizes the human nasopharyngeal tract. These bacteria cross the epithelial barrier can cause life-threatening sepsis and/or meningitis. Antimicrobial peptides are one of the first lines of defense against invading bacterial pathogens. Human beta-defensin 2 (hBD2) is an antimicrobial peptide with broad antibacterial activity, although its mechanism of action is poorly understood. Here, we investigated the effect of hBD2 on N. meningitidis. We showed that hBD2 binds to and kills actively growing meningococcal cells. The lethal effect was evident after 2 h incubation with the peptide, which suggests a slow killing mechanism. Further, the membrane integrity was not changed during hBD2 treatment. Incubation with lethal doses of hBD2 decreased the presence of diplococci; the number and size of bacterial microcolonies/aggregates remained constant, indicating that planktonic bacteria may be more susceptible to the peptide. Meningococcal DNA bound hBD2 in mobility shift assays and inhibited the lethal effect of hBD2 in a dose-dependent manner both in suspension and biofilms, supporting the interaction between hBD2 and DNA. Taken together, the ability of meningococcal DNA to bind hBD2 opens the possibility that extracellular DNA due to bacterial lysis may be a means of N. meningitidis to evade immune defenses.\n"
     ]
    }
   ],
   "source": [
    "for i in publications:\n",
    "        print(i)"
   ]
  },
  {
   "cell_type": "code",
   "execution_count": null,
   "metadata": {},
   "outputs": [],
   "source": []
  },
  {
   "cell_type": "code",
   "execution_count": null,
   "metadata": {},
   "outputs": [],
   "source": []
  }
 ],
 "metadata": {
  "kernelspec": {
   "display_name": "Python 3",
   "language": "python",
   "name": "python3"
  },
  "language_info": {
   "codemirror_mode": {
    "name": "ipython",
    "version": 3
   },
   "file_extension": ".py",
   "mimetype": "text/x-python",
   "name": "python",
   "nbconvert_exporter": "python",
   "pygments_lexer": "ipython3",
   "version": "3.8.3"
  }
 },
 "nbformat": 4,
 "nbformat_minor": 4
}
